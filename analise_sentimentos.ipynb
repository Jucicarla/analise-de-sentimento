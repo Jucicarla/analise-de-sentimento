{
  "nbformat": 4,
  "nbformat_minor": 0,
  "metadata": {
    "colab": {
      "name": "analise-sentimentos.ipynb",
      "provenance": [],
      "collapsed_sections": [],
      "include_colab_link": true
    },
    "kernelspec": {
      "name": "python3",
      "display_name": "Python 3"
    }
  },
  "cells": [
    {
      "cell_type": "markdown",
      "metadata": {
        "id": "view-in-github",
        "colab_type": "text"
      },
      "source": [
        "<a href=\"https://colab.research.google.com/github/Jucicarla/analise-de-sentimento/blob/main/analise_sentimentos.ipynb\" target=\"_parent\"><img src=\"https://colab.research.google.com/assets/colab-badge.svg\" alt=\"Open In Colab\"/></a>"
      ]
    },
    {
      "cell_type": "markdown",
      "metadata": {
        "id": "IPGLkah7pT6C"
      },
      "source": [
        "#Instalação de pacotes"
      ]
    },
    {
      "cell_type": "markdown",
      "metadata": {
        "id": "0fwpaDZn3ZQq"
      },
      "source": [
        "textando"
      ]
    },
    {
      "cell_type": "code",
      "metadata": {
        "id": "n3sSrSa4pPWR",
        "outputId": "4be9d57c-1dbc-494a-9209-df27d5247137",
        "colab": {
          "base_uri": "https://localhost:8080/"
        }
      },
      "source": [
        "!python -m textblob.download_corpora"
      ],
      "execution_count": 1,
      "outputs": [
        {
          "output_type": "stream",
          "text": [
            "[nltk_data] Downloading package brown to /root/nltk_data...\n",
            "[nltk_data]   Unzipping corpora/brown.zip.\n",
            "[nltk_data] Downloading package punkt to /root/nltk_data...\n",
            "[nltk_data]   Unzipping tokenizers/punkt.zip.\n",
            "[nltk_data] Downloading package wordnet to /root/nltk_data...\n",
            "[nltk_data]   Unzipping corpora/wordnet.zip.\n",
            "[nltk_data] Downloading package averaged_perceptron_tagger to\n",
            "[nltk_data]     /root/nltk_data...\n",
            "[nltk_data]   Unzipping taggers/averaged_perceptron_tagger.zip.\n",
            "[nltk_data] Downloading package conll2000 to /root/nltk_data...\n",
            "[nltk_data]   Unzipping corpora/conll2000.zip.\n",
            "[nltk_data] Downloading package movie_reviews to /root/nltk_data...\n",
            "[nltk_data]   Unzipping corpora/movie_reviews.zip.\n",
            "Finished.\n"
          ],
          "name": "stdout"
        }
      ]
    },
    {
      "cell_type": "markdown",
      "metadata": {
        "id": "L674wxxDpcWg"
      },
      "source": [
        "#Importar pacotes"
      ]
    },
    {
      "cell_type": "code",
      "metadata": {
        "id": "fHtSnenypdzJ"
      },
      "source": [
        "from textblob import TextBlob"
      ],
      "execution_count": null,
      "outputs": []
    },
    {
      "cell_type": "markdown",
      "metadata": {
        "id": "GB9RpZ2cq9Iw"
      },
      "source": [
        "#Análise de Sentimentos"
      ]
    },
    {
      "cell_type": "markdown",
      "metadata": {
        "id": "-4jRMuKBq-_I"
      },
      "source": [
        "Exemplo de comentário"
      ]
    },
    {
      "cell_type": "code",
      "metadata": {
        "id": "zEmlgRrMpoUn"
      },
      "source": [
        "comentario = \"Conheço o restaurante em várias cidades do Brasil. O de Manaus não foge muito da qualidade e beleza. Atendimento bom, ambiente bonito. Mas a comida não surpreendeu, aliás até decepcionou. Não foi aquele sabor que estamos acostumados quando vamos a este restaurante. Pode ter sido um fato isolado, mas.\""
      ],
      "execution_count": null,
      "outputs": []
    },
    {
      "cell_type": "markdown",
      "metadata": {
        "id": "SGzzYdRhrBYq"
      },
      "source": [
        "Texto convertido para o formato TextBlob"
      ]
    },
    {
      "cell_type": "code",
      "metadata": {
        "id": "ICj1Nb2Vpyt-"
      },
      "source": [
        "comentario_blob = TextBlob(comentario)"
      ],
      "execution_count": null,
      "outputs": []
    },
    {
      "cell_type": "markdown",
      "metadata": {
        "id": "hUaLpMZ6rEh5"
      },
      "source": [
        "Comentário traduzido para Inglês (US)"
      ]
    },
    {
      "cell_type": "code",
      "metadata": {
        "id": "G3uzGbFaqeLD"
      },
      "source": [
        "comentario_blob_us = comentario_blob.translate(to='us')"
      ],
      "execution_count": null,
      "outputs": []
    },
    {
      "cell_type": "markdown",
      "metadata": {
        "id": "SHii6r-7rO_M"
      },
      "source": [
        "#Cálculo da subjetividade"
      ]
    },
    {
      "cell_type": "markdown",
      "metadata": {
        "id": "zOcwg2oJrTNo"
      },
      "source": [
        "O valor da subjetividade é um número real entre [0.0, 1.0], onde 0.0 o texto é indicado como muito objetivo e 1.0 o texto é indicado como muito subjetivo."
      ]
    },
    {
      "cell_type": "code",
      "metadata": {
        "id": "SX8bHfhWp3SA",
        "outputId": "f9a5d19d-78e5-4102-bd86-2dbc907f2540",
        "colab": {
          "base_uri": "https://localhost:8080/",
          "height": 121
        }
      },
      "source": [
        "for sentence_br, sentence in zip(comentario_blob.sentences, comentario_blob_us.sentences):\n",
        "    print(sentence_br, ':', sentence.sentiment.subjectivity)"
      ],
      "execution_count": null,
      "outputs": [
        {
          "output_type": "stream",
          "text": [
            "Conheço o restaurante em várias cidades do Brasil. : 0.0\n",
            "O de Manaus não foge muito da qualidade e beleza. : 1.0\n",
            "Atendimento bom, ambiente bonito. : 0.8\n",
            "Mas a comida não surpreendeu, aliás até decepcionou. : 0.625\n",
            "Não foi aquele sabor que estamos acostumados quando vamos a este restaurante. : 0.0\n",
            "Pode ter sido um fato isolado, mas. : 0.0\n"
          ],
          "name": "stdout"
        }
      ]
    },
    {
      "cell_type": "markdown",
      "metadata": {
        "id": "YpHkeYDSr-J-"
      },
      "source": [
        "#Cálculo da polaridade"
      ]
    },
    {
      "cell_type": "markdown",
      "metadata": {
        "id": "6P_dvtOssBBj"
      },
      "source": [
        "O valor da polaridade é um número real entre os valores [-1.0, 1.0]."
      ]
    },
    {
      "cell_type": "code",
      "metadata": {
        "id": "VtsOZWS0sL74",
        "outputId": "e4cb65d9-8c0c-4bf6-fe1a-b63d90e91f8d",
        "colab": {
          "base_uri": "https://localhost:8080/",
          "height": 121
        }
      },
      "source": [
        "for sentence_br, sentence in zip(comentario_blob.sentences, comentario_blob_us.sentences):\n",
        "    print(sentence_br, ':', sentence.sentiment.polarity)"
      ],
      "execution_count": null,
      "outputs": [
        {
          "output_type": "stream",
          "text": [
            "Conheço o restaurante em várias cidades do Brasil. : 0.0\n",
            "O de Manaus não foge muito da qualidade e beleza. : -0.05\n",
            "Atendimento bom, ambiente bonito. : 0.7749999999999999\n",
            "Mas a comida não surpreendeu, aliás até decepcionou. : -0.55\n",
            "Não foi aquele sabor que estamos acostumados quando vamos a este restaurante. : 0.0\n",
            "Pode ter sido um fato isolado, mas. : 0.0\n"
          ],
          "name": "stdout"
        }
      ]
    }
  ]
}
{
  "nbformat": 4,
  "nbformat_minor": 0,
  "metadata": {
    "colab": {
      "name": "analise-sentimentos.ipynb",
      "provenance": [],
      "collapsed_sections": [],
      "toc_visible": true,
      "include_colab_link": true
    },
    "kernelspec": {
      "name": "python3",
      "display_name": "Python 3"
    }
  },
  "cells": [
    {
      "cell_type": "markdown",
      "metadata": {
        "id": "view-in-github",
        "colab_type": "text"
      },
      "source": [
        "<a href=\"https://colab.research.google.com/github/Jucicarla/analise-de-sentimento/blob/main/analise_sentimentos.ipynb\" target=\"_parent\"><img src=\"https://colab.research.google.com/assets/colab-badge.svg\" alt=\"Open In Colab\"/></a>"
      ]
    },
    {
      "cell_type": "markdown",
      "metadata": {
        "id": "NTKZrjNRF2Tt"
      },
      "source": [
        "#**Análise de Sentimentos usando TextBlob: Analisar comentários postados por usuários sobre restaurantes.**\n",
        "\n",
        "\n",
        "\n"
      ]
    },
    {
      "cell_type": "markdown",
      "metadata": {
        "id": "IPGLkah7pT6C"
      },
      "source": [
        "#Instalação de pacotes"
      ]
    },
    {
      "cell_type": "code",
      "metadata": {
        "id": "n3sSrSa4pPWR",
        "colab": {
          "base_uri": "https://localhost:8080/"
        },
        "outputId": "44457c22-ea1b-4c5e-ca69-28539ea25936"
      },
      "source": [
        "!python -m textblob.download_corpora"
      ],
      "execution_count": 4,
      "outputs": [
        {
          "output_type": "stream",
          "text": [
            "[nltk_data] Downloading package brown to /root/nltk_data...\n",
            "[nltk_data]   Unzipping corpora/brown.zip.\n",
            "[nltk_data] Downloading package punkt to /root/nltk_data...\n",
            "[nltk_data]   Unzipping tokenizers/punkt.zip.\n",
            "[nltk_data] Downloading package wordnet to /root/nltk_data...\n",
            "[nltk_data]   Unzipping corpora/wordnet.zip.\n",
            "[nltk_data] Downloading package averaged_perceptron_tagger to\n",
            "[nltk_data]     /root/nltk_data...\n",
            "[nltk_data]   Unzipping taggers/averaged_perceptron_tagger.zip.\n",
            "[nltk_data] Downloading package conll2000 to /root/nltk_data...\n",
            "[nltk_data]   Unzipping corpora/conll2000.zip.\n",
            "[nltk_data] Downloading package movie_reviews to /root/nltk_data...\n",
            "[nltk_data]   Unzipping corpora/movie_reviews.zip.\n",
            "Finished.\n"
          ],
          "name": "stdout"
        }
      ]
    },
    {
      "cell_type": "markdown",
      "metadata": {
        "id": "L674wxxDpcWg"
      },
      "source": [
        "#Importar pacotes"
      ]
    },
    {
      "cell_type": "code",
      "metadata": {
        "id": "fHtSnenypdzJ",
        "colab": {
          "base_uri": "https://localhost:8080/"
        },
        "outputId": "9ef11d9d-0c94-43a0-9ee2-438d9bb57cf7"
      },
      "source": [
        "from time import sleep\n",
        "from textblob import TextBlob\n",
        "from textblob.exceptions import NotTranslated \n",
        "import nltk\n",
        "import pandas as pd\n",
        "import json\n",
        "import re\n",
        "import random\n",
        "# montar o Google Drive\n",
        "from google.colab import drive\n",
        "drive.mount('/content/drive')"
      ],
      "execution_count": 31,
      "outputs": [
        {
          "output_type": "stream",
          "text": [
            "Drive already mounted at /content/drive; to attempt to forcibly remount, call drive.mount(\"/content/drive\", force_remount=True).\n"
          ],
          "name": "stdout"
        }
      ]
    },
    {
      "cell_type": "code",
      "metadata": {
        "id": "SDVa6dGz5k6V"
      },
      "source": [
        "arquivo = '/content/drive/MyDrive/dataset-v2.dat'\n",
        "d = []\n",
        "with open(arquivo) as infile:\n",
        "  for line in infile:\n",
        "    try:\n",
        "      item = json.loads(line.strip())\n",
        "      d.append(item)\n",
        "    except:\n",
        "      None"
      ],
      "execution_count": 7,
      "outputs": []
    },
    {
      "cell_type": "code",
      "metadata": {
        "id": "fEDjgGxg5sPN"
      },
      "source": [
        "#criou um DataFrame a partir de um dataset\n",
        "df = pd.DataFrame(d)"
      ],
      "execution_count": 8,
      "outputs": []
    },
    {
      "cell_type": "code",
      "metadata": {
        "colab": {
          "base_uri": "https://localhost:8080/",
          "height": 965
        },
        "id": "3IWUQ-z85zTs",
        "outputId": "c825eec6-5b3a-461e-9991-4fe278fb03e1"
      },
      "source": [
        "df"
      ],
      "execution_count": 4,
      "outputs": [
        {
          "output_type": "execute_result",
          "data": {
            "text/html": [
              "<div>\n",
              "<style scoped>\n",
              "    .dataframe tbody tr th:only-of-type {\n",
              "        vertical-align: middle;\n",
              "    }\n",
              "\n",
              "    .dataframe tbody tr th {\n",
              "        vertical-align: top;\n",
              "    }\n",
              "\n",
              "    .dataframe thead th {\n",
              "        text-align: right;\n",
              "    }\n",
              "</style>\n",
              "<table border=\"1\" class=\"dataframe\">\n",
              "  <thead>\n",
              "    <tr style=\"text-align: right;\">\n",
              "      <th></th>\n",
              "      <th>title</th>\n",
              "      <th>reviewId</th>\n",
              "      <th>restaurantId</th>\n",
              "      <th>author</th>\n",
              "      <th>reviewBody</th>\n",
              "      <th>language</th>\n",
              "      <th>mobileDevice</th>\n",
              "      <th>userLocation</th>\n",
              "      <th>publicationDate</th>\n",
              "      <th>visitDate</th>\n",
              "      <th>ratingValue</th>\n",
              "      <th>itemReviewed</th>\n",
              "    </tr>\n",
              "  </thead>\n",
              "  <tbody>\n",
              "    <tr>\n",
              "      <th>0</th>\n",
              "      <td>Jantar</td>\n",
              "      <td>692856288</td>\n",
              "      <td>2344932</td>\n",
              "      <td>larinhavercosa222</td>\n",
              "      <td>Comida maravilhosa, lugar do verdadeiro chicle...</td>\n",
              "      <td>pt</td>\n",
              "      <td>True</td>\n",
              "      <td>São Carlos, SP</td>\n",
              "      <td>26/07/2019</td>\n",
              "      <td>07/2019</td>\n",
              "      <td>5</td>\n",
              "      <td>{'name': 'Imperador dos Camarões', 'address': ...</td>\n",
              "    </tr>\n",
              "    <tr>\n",
              "      <th>1</th>\n",
              "      <td>Uma boa experiência.</td>\n",
              "      <td>229208487</td>\n",
              "      <td>3720906</td>\n",
              "      <td>Pano P</td>\n",
              "      <td>Comida boa, drinks legais e um ambiente bem ac...</td>\n",
              "      <td>pt</td>\n",
              "      <td>True</td>\n",
              "      <td>Manaus, AM</td>\n",
              "      <td>16/09/2014</td>\n",
              "      <td>None</td>\n",
              "      <td>4</td>\n",
              "      <td>{'name': 'Guacamole Natal', 'address': {'stree...</td>\n",
              "    </tr>\n",
              "    <tr>\n",
              "      <th>2</th>\n",
              "      <td>Otimo self service</td>\n",
              "      <td>679002332</td>\n",
              "      <td>2248105</td>\n",
              "      <td>Magma100</td>\n",
              "      <td>Excelente pra ir com a família! Ótima Comida, ...</td>\n",
              "      <td>pt</td>\n",
              "      <td>True</td>\n",
              "      <td>Goiânia, GO</td>\n",
              "      <td>04/06/2019</td>\n",
              "      <td>07/2018</td>\n",
              "      <td>4</td>\n",
              "      <td>{'name': 'Chica Pitanga', 'address': {'streetA...</td>\n",
              "    </tr>\n",
              "    <tr>\n",
              "      <th>3</th>\n",
              "      <td>O sorvete mais tradicional do estado</td>\n",
              "      <td>355671519</td>\n",
              "      <td>8168302</td>\n",
              "      <td>Yurie M</td>\n",
              "      <td>Tomo sorvete na Visabor faz mais de 30 anos. S...</td>\n",
              "      <td>pt</td>\n",
              "      <td>False</td>\n",
              "      <td>Aracaju, SE</td>\n",
              "      <td>15/03/2016</td>\n",
              "      <td>01/2016</td>\n",
              "      <td>5</td>\n",
              "      <td>{'name': 'Sorvetes Vi Sabor', 'address': {'str...</td>\n",
              "    </tr>\n",
              "    <tr>\n",
              "      <th>4</th>\n",
              "      <td>Melhor hamburger!</td>\n",
              "      <td>268741921</td>\n",
              "      <td>5395141</td>\n",
              "      <td>Debora_C85</td>\n",
              "      <td>O melhor hamburger que já comi! Excelente aten...</td>\n",
              "      <td>pt</td>\n",
              "      <td>False</td>\n",
              "      <td>Rio de Janeiro, RJ</td>\n",
              "      <td>28/04/2015</td>\n",
              "      <td>04/2015</td>\n",
              "      <td>5</td>\n",
              "      <td>{'name': 'Z Deli Sandwich Shop', 'address': {'...</td>\n",
              "    </tr>\n",
              "    <tr>\n",
              "      <th>...</th>\n",
              "      <td>...</td>\n",
              "      <td>...</td>\n",
              "      <td>...</td>\n",
              "      <td>...</td>\n",
              "      <td>...</td>\n",
              "      <td>...</td>\n",
              "      <td>...</td>\n",
              "      <td>...</td>\n",
              "      <td>...</td>\n",
              "      <td>...</td>\n",
              "      <td>...</td>\n",
              "      <td>...</td>\n",
              "    </tr>\n",
              "    <tr>\n",
              "      <th>99995</th>\n",
              "      <td>Nova opção no Paseo!!!</td>\n",
              "      <td>672210394</td>\n",
              "      <td>17424548</td>\n",
              "      <td>Fabiano B</td>\n",
              "      <td>Ainda não inaugurado oficialmente, está atende...</td>\n",
              "      <td>pt</td>\n",
              "      <td>True</td>\n",
              "      <td>Porto Alegre, RS</td>\n",
              "      <td>07/05/2019</td>\n",
              "      <td>05/2019</td>\n",
              "      <td>5</td>\n",
              "      <td>{'name': 'Boteco Maestro', 'address': {'street...</td>\n",
              "    </tr>\n",
              "    <tr>\n",
              "      <th>99996</th>\n",
              "      <td>Bom</td>\n",
              "      <td>380904400</td>\n",
              "      <td>2440184</td>\n",
              "      <td>Chris L</td>\n",
              "      <td>Bom atendimento, lugar bonito, comida muito go...</td>\n",
              "      <td>pt</td>\n",
              "      <td>True</td>\n",
              "      <td>Cork, Irlanda</td>\n",
              "      <td>08/06/2016</td>\n",
              "      <td>01/2016</td>\n",
              "      <td>4</td>\n",
              "      <td>{'name': 'Casa do Marquês', 'address': {'stree...</td>\n",
              "    </tr>\n",
              "    <tr>\n",
              "      <th>99997</th>\n",
              "      <td>Bom bar</td>\n",
              "      <td>186111858</td>\n",
              "      <td>2392996</td>\n",
              "      <td>Guilherme P</td>\n",
              "      <td>O Rio Scenarium é uma das baladas mais famosas...</td>\n",
              "      <td>pt</td>\n",
              "      <td>False</td>\n",
              "      <td>São Paulo, SP</td>\n",
              "      <td>27/11/2013</td>\n",
              "      <td>11/2013</td>\n",
              "      <td>4</td>\n",
              "      <td>{'name': 'Rio Scenarium', 'address': {'streetA...</td>\n",
              "    </tr>\n",
              "    <tr>\n",
              "      <th>99998</th>\n",
              "      <td>Me senti enganada...</td>\n",
              "      <td>152745909</td>\n",
              "      <td>1062290</td>\n",
              "      <td>LisianeCohem</td>\n",
              "      <td>Fui por indicação e com boa expectativa!\\n116,...</td>\n",
              "      <td>pt</td>\n",
              "      <td>True</td>\n",
              "      <td>Porto Alegre, RS</td>\n",
              "      <td>21/02/2013</td>\n",
              "      <td>None</td>\n",
              "      <td>2</td>\n",
              "      <td>{'name': 'Celeiro', 'address': {'streetAddress...</td>\n",
              "    </tr>\n",
              "    <tr>\n",
              "      <th>99999</th>\n",
              "      <td>Restaurante excelente</td>\n",
              "      <td>649755498</td>\n",
              "      <td>12433911</td>\n",
              "      <td>brunotulio</td>\n",
              "      <td>Experiência fantástica com comida deliciosa e ...</td>\n",
              "      <td>pt</td>\n",
              "      <td>True</td>\n",
              "      <td>Manaus, AM</td>\n",
              "      <td>02/02/2019</td>\n",
              "      <td>02/2019</td>\n",
              "      <td>5</td>\n",
              "      <td>{'name': 'Coco Bambu Manaus', 'address': {'str...</td>\n",
              "    </tr>\n",
              "  </tbody>\n",
              "</table>\n",
              "<p>100000 rows × 12 columns</p>\n",
              "</div>"
            ],
            "text/plain": [
              "                                      title  ...                                       itemReviewed\n",
              "0                                   Jantar   ...  {'name': 'Imperador dos Camarões', 'address': ...\n",
              "1                      Uma boa experiência.  ...  {'name': 'Guacamole Natal', 'address': {'stree...\n",
              "2                        Otimo self service  ...  {'name': 'Chica Pitanga', 'address': {'streetA...\n",
              "3      O sorvete mais tradicional do estado  ...  {'name': 'Sorvetes Vi Sabor', 'address': {'str...\n",
              "4                         Melhor hamburger!  ...  {'name': 'Z Deli Sandwich Shop', 'address': {'...\n",
              "...                                     ...  ...                                                ...\n",
              "99995                Nova opção no Paseo!!!  ...  {'name': 'Boteco Maestro', 'address': {'street...\n",
              "99996                                   Bom  ...  {'name': 'Casa do Marquês', 'address': {'stree...\n",
              "99997                               Bom bar  ...  {'name': 'Rio Scenarium', 'address': {'streetA...\n",
              "99998                  Me senti enganada...  ...  {'name': 'Celeiro', 'address': {'streetAddress...\n",
              "99999                 Restaurante excelente  ...  {'name': 'Coco Bambu Manaus', 'address': {'str...\n",
              "\n",
              "[100000 rows x 12 columns]"
            ]
          },
          "metadata": {
            "tags": []
          },
          "execution_count": 4
        }
      ]
    },
    {
      "cell_type": "code",
      "metadata": {
        "id": "d5jXLwKhYHrv"
      },
      "source": [
        "df.drop_duplicates(['reviewBody'], inplace=True)"
      ],
      "execution_count": 9,
      "outputs": []
    },
    {
      "cell_type": "code",
      "metadata": {
        "colab": {
          "base_uri": "https://localhost:8080/"
        },
        "id": "k7j29rbca988",
        "outputId": "07919487-7c04-47ab-c9ce-8e669e630ff2"
      },
      "source": [
        "df.reviewBody\n"
      ],
      "execution_count": 10,
      "outputs": [
        {
          "output_type": "execute_result",
          "data": {
            "text/plain": [
              "0        Comida maravilhosa, lugar do verdadeiro chicle...\n",
              "1        Comida boa, drinks legais e um ambiente bem ac...\n",
              "2        Excelente pra ir com a família! Ótima Comida, ...\n",
              "3        Tomo sorvete na Visabor faz mais de 30 anos. S...\n",
              "4        O melhor hamburger que já comi! Excelente aten...\n",
              "                               ...                        \n",
              "99995    Ainda não inaugurado oficialmente, está atende...\n",
              "99996    Bom atendimento, lugar bonito, comida muito go...\n",
              "99997    O Rio Scenarium é uma das baladas mais famosas...\n",
              "99998    Fui por indicação e com boa expectativa!\\n116,...\n",
              "99999    Experiência fantástica com comida deliciosa e ...\n",
              "Name: reviewBody, Length: 99997, dtype: object"
            ]
          },
          "metadata": {
            "tags": []
          },
          "execution_count": 10
        }
      ]
    },
    {
      "cell_type": "code",
      "metadata": {
        "id": "kYsFRQmZnjZq"
      },
      "source": [
        "comentarios = df.reviewBody"
      ],
      "execution_count": 23,
      "outputs": []
    },
    {
      "cell_type": "code",
      "metadata": {
        "colab": {
          "base_uri": "https://localhost:8080/"
        },
        "id": "lEDqb9BRnomD",
        "outputId": "a0c2d3e2-987e-45d8-dee2-231923900549"
      },
      "source": [
        "comentarios"
      ],
      "execution_count": 24,
      "outputs": [
        {
          "output_type": "execute_result",
          "data": {
            "text/plain": [
              "0        Comida maravilhosa, lugar do verdadeiro chicle...\n",
              "1        Comida boa, drinks legais e um ambiente bem ac...\n",
              "2        Excelente pra ir com a família! Ótima Comida, ...\n",
              "3        Tomo sorvete na Visabor faz mais de 30 anos. S...\n",
              "4        O melhor hamburger que já comi! Excelente aten...\n",
              "                               ...                        \n",
              "99995    Ainda não inaugurado oficialmente, está atende...\n",
              "99996    Bom atendimento, lugar bonito, comida muito go...\n",
              "99997    O Rio Scenarium é uma das baladas mais famosas...\n",
              "99998    Fui por indicação e com boa expectativa!\\n116,...\n",
              "99999    Experiência fantástica com comida deliciosa e ...\n",
              "Name: reviewBody, Length: 99996, dtype: object"
            ]
          },
          "metadata": {
            "tags": []
          },
          "execution_count": 24
        }
      ]
    },
    {
      "cell_type": "markdown",
      "metadata": {
        "id": "9tyoUXhJgct4"
      },
      "source": [
        "#**Pré-Processamento: Limpeza e organização**"
      ]
    },
    {
      "cell_type": "code",
      "metadata": {
        "id": "WytojP6lbKM0"
      },
      "source": [
        "#remover linhas Duplicadas\n",
        "comentarios = df.drop_duplicates(['reviewBody'], inplace=True)"
      ],
      "execution_count": 14,
      "outputs": []
    },
    {
      "cell_type": "code",
      "metadata": {
        "id": "4gEspcYObOws"
      },
      "source": [
        "#retorna o numero de linhas que ficaram\n",
        "# df.reviewBody.count()"
      ],
      "execution_count": null,
      "outputs": []
    },
    {
      "cell_type": "code",
      "metadata": {
        "id": "kkrYrhLYdoXP"
      },
      "source": [
        "# remove links, pontos, virgulas,ponto e virgulas do texto\n",
        "def Limpeza_dados(instancia):\n",
        "  #re = expressao regular\n",
        "    instancia = re.sub(r\"http\\S+\", \"\", instancia).lower().replace('.','').replace(';','').replace('-','').replace(':','').replace(')','')\n",
        "    return (instancia)"
      ],
      "execution_count": 15,
      "outputs": []
    },
    {
      "cell_type": "markdown",
      "metadata": {
        "id": "v3GQ2uPwqjAS"
      },
      "source": [
        "**Limpeza dos dados nulos**"
      ]
    },
    {
      "cell_type": "code",
      "metadata": {
        "colab": {
          "base_uri": "https://localhost:8080/"
        },
        "id": "Gi341NEgpqtq",
        "outputId": "e7e6fdb5-ddf4-48ee-bc34-da7f5f76fd25"
      },
      "source": [
        "#metodo que identifica e soma os valores nulos em todo o dataset\n",
        "df.isnull().sum()"
      ],
      "execution_count": 48,
      "outputs": [
        {
          "output_type": "execute_result",
          "data": {
            "text/plain": [
              "title              0\n",
              "reviewId           0\n",
              "restaurantId       0\n",
              "author             0\n",
              "reviewBody         0\n",
              "language           0\n",
              "mobileDevice       0\n",
              "userLocation       0\n",
              "publicationDate    0\n",
              "visitDate          0\n",
              "ratingValue        0\n",
              "itemReviewed       0\n",
              "reviewBody_us      0\n",
              "dtype: int64"
            ]
          },
          "metadata": {
            "tags": []
          },
          "execution_count": 48
        }
      ]
    },
    {
      "cell_type": "markdown",
      "metadata": {
        "id": "B8GYEGpkrDfP"
      },
      "source": [
        "como os dados da coluna 'ReviewID' estão os comentários, essa coluna é importante para análise."
      ]
    },
    {
      "cell_type": "code",
      "metadata": {
        "id": "OTNUKarsrU5x"
      },
      "source": [
        "#limpando dados nulos da coluna que contém os comentarios\n",
        "df = df.dropna(subset=['reviewBody'])"
      ],
      "execution_count": 47,
      "outputs": []
    },
    {
      "cell_type": "code",
      "metadata": {
        "id": "zQvJ5JuFs-DL"
      },
      "source": [
        "comentarios.to_csv('comentarios.csv')"
      ],
      "execution_count": 25,
      "outputs": []
    },
    {
      "cell_type": "code",
      "metadata": {
        "id": "pp1yDp59XLeM"
      },
      "source": [
        "df_comentario = pd.read_csv('/content/comentarios.csv', sep = ',')"
      ],
      "execution_count": 27,
      "outputs": []
    },
    {
      "cell_type": "code",
      "metadata": {
        "colab": {
          "base_uri": "https://localhost:8080/",
          "height": 424
        },
        "id": "GdGDNAFa5tc0",
        "outputId": "a09df6df-0f63-4be2-956b-38d8e5eecca9"
      },
      "source": [
        "df_comentario"
      ],
      "execution_count": 28,
      "outputs": [
        {
          "output_type": "execute_result",
          "data": {
            "text/html": [
              "<div>\n",
              "<style scoped>\n",
              "    .dataframe tbody tr th:only-of-type {\n",
              "        vertical-align: middle;\n",
              "    }\n",
              "\n",
              "    .dataframe tbody tr th {\n",
              "        vertical-align: top;\n",
              "    }\n",
              "\n",
              "    .dataframe thead th {\n",
              "        text-align: right;\n",
              "    }\n",
              "</style>\n",
              "<table border=\"1\" class=\"dataframe\">\n",
              "  <thead>\n",
              "    <tr style=\"text-align: right;\">\n",
              "      <th></th>\n",
              "      <th>Unnamed: 0</th>\n",
              "      <th>reviewBody</th>\n",
              "    </tr>\n",
              "  </thead>\n",
              "  <tbody>\n",
              "    <tr>\n",
              "      <th>0</th>\n",
              "      <td>0</td>\n",
              "      <td>Comida maravilhosa, lugar do verdadeiro chicle...</td>\n",
              "    </tr>\n",
              "    <tr>\n",
              "      <th>1</th>\n",
              "      <td>1</td>\n",
              "      <td>Comida boa, drinks legais e um ambiente bem ac...</td>\n",
              "    </tr>\n",
              "    <tr>\n",
              "      <th>2</th>\n",
              "      <td>2</td>\n",
              "      <td>Excelente pra ir com a família! Ótima Comida, ...</td>\n",
              "    </tr>\n",
              "    <tr>\n",
              "      <th>3</th>\n",
              "      <td>3</td>\n",
              "      <td>Tomo sorvete na Visabor faz mais de 30 anos. S...</td>\n",
              "    </tr>\n",
              "    <tr>\n",
              "      <th>4</th>\n",
              "      <td>4</td>\n",
              "      <td>O melhor hamburger que já comi! Excelente aten...</td>\n",
              "    </tr>\n",
              "    <tr>\n",
              "      <th>...</th>\n",
              "      <td>...</td>\n",
              "      <td>...</td>\n",
              "    </tr>\n",
              "    <tr>\n",
              "      <th>99991</th>\n",
              "      <td>99995</td>\n",
              "      <td>Ainda não inaugurado oficialmente, está atende...</td>\n",
              "    </tr>\n",
              "    <tr>\n",
              "      <th>99992</th>\n",
              "      <td>99996</td>\n",
              "      <td>Bom atendimento, lugar bonito, comida muito go...</td>\n",
              "    </tr>\n",
              "    <tr>\n",
              "      <th>99993</th>\n",
              "      <td>99997</td>\n",
              "      <td>O Rio Scenarium é uma das baladas mais famosas...</td>\n",
              "    </tr>\n",
              "    <tr>\n",
              "      <th>99994</th>\n",
              "      <td>99998</td>\n",
              "      <td>Fui por indicação e com boa expectativa!\\n116,...</td>\n",
              "    </tr>\n",
              "    <tr>\n",
              "      <th>99995</th>\n",
              "      <td>99999</td>\n",
              "      <td>Experiência fantástica com comida deliciosa e ...</td>\n",
              "    </tr>\n",
              "  </tbody>\n",
              "</table>\n",
              "<p>99996 rows × 2 columns</p>\n",
              "</div>"
            ],
            "text/plain": [
              "       Unnamed: 0                                         reviewBody\n",
              "0               0  Comida maravilhosa, lugar do verdadeiro chicle...\n",
              "1               1  Comida boa, drinks legais e um ambiente bem ac...\n",
              "2               2  Excelente pra ir com a família! Ótima Comida, ...\n",
              "3               3  Tomo sorvete na Visabor faz mais de 30 anos. S...\n",
              "4               4  O melhor hamburger que já comi! Excelente aten...\n",
              "...           ...                                                ...\n",
              "99991       99995  Ainda não inaugurado oficialmente, está atende...\n",
              "99992       99996  Bom atendimento, lugar bonito, comida muito go...\n",
              "99993       99997  O Rio Scenarium é uma das baladas mais famosas...\n",
              "99994       99998  Fui por indicação e com boa expectativa!\\n116,...\n",
              "99995       99999  Experiência fantástica com comida deliciosa e ...\n",
              "\n",
              "[99996 rows x 2 columns]"
            ]
          },
          "metadata": {
            "tags": []
          },
          "execution_count": 28
        }
      ]
    },
    {
      "cell_type": "code",
      "metadata": {
        "colab": {
          "base_uri": "https://localhost:8080/"
        },
        "id": "lxFkDd0k-1BU",
        "outputId": "102e9aab-26bc-4de9-ee56-ea6292066d99"
      },
      "source": [
        "df_comentario.values"
      ],
      "execution_count": 75,
      "outputs": [
        {
          "output_type": "execute_result",
          "data": {
            "text/plain": [
              "array([[0,\n",
              "        'Comida maravilhosa, lugar do verdadeiro chiclete de camarão. \\nO garçom Éric Lima nos atendeu muito bem, pretendemos voltar assim que possível.'],\n",
              "       [1,\n",
              "        'Comida boa, drinks legais e um ambiente bem aconchegante. \\nProvamos muitas coisas e tudo nos agradou. Principalmente um pato servido em um dos pratos da casa, sensacional!'],\n",
              "       [2,\n",
              "        'Excelente pra ir com a família! Ótima Comida, ambiente agradável, bom atendimento e estacionamento. Vale a pena conhecer'],\n",
              "       ...,\n",
              "       [99997,\n",
              "        'O Rio Scenarium é uma das baladas mais famosas do Rio de Janeiro. É bem grande e lotada de estrangeiros. A bebida não é tão cara como em outras cidades, por exemplo, São Paulo. O lado negativo é com certeza a fila. Se você não chegar cedo, vai ficar pelo menos 30 minutos esperando para entrar.'],\n",
              "       [99998,\n",
              "        'Fui por indicação e com boa expectativa!\\n116,00 o kilo de salada... Bem caro, né?\\nO alface tava murcho, nada de opções de tempero, buffet pequeno...\\n12,00 um copo peq de suco. Aff.\\nNao valeu, nem pelo ambiente nem pela comida.'],\n",
              "       [99999,\n",
              "        'Experiência fantástica com comida deliciosa e atendimento de excelência prestado pelo Wellington, ambiente agradável, música boa ambiente']],\n",
              "      dtype=object)"
            ]
          },
          "metadata": {
            "tags": []
          },
          "execution_count": 75
        }
      ]
    },
    {
      "cell_type": "code",
      "metadata": {
        "id": "QLXgrEeV45VJ"
      },
      "source": [
        "df['reviewBody_us'] = 'NaN'"
      ],
      "execution_count": 33,
      "outputs": []
    },
    {
      "cell_type": "code",
      "metadata": {
        "id": "Dqd3_S4zwksD"
      },
      "source": [
        "for i,x in enumerate(range(200)):\n",
        "  idRandom = random.randint(0,200)\n",
        "  if df.reviewBody_us[idRandom] == 'NaN':\n",
        "    comentario_blob = TextBlob(df.reviewBody[idRandom])\n",
        "    comentario_blob_us = comentario_blob.translate(to='us')\n",
        "    comentario_blob_us = str(comentario_blob_us)\n",
        "    df.loc[idRandom,'reviewBody_us'] = comentario_blob_us\n",
        "\n"
      ],
      "execution_count": 45,
      "outputs": []
    },
    {
      "cell_type": "code",
      "metadata": {
        "colab": {
          "base_uri": "https://localhost:8080/",
          "height": 1000
        },
        "id": "YwhrIHXW8Lqe",
        "outputId": "146a3fc4-9815-4b44-ebdb-77ce6c1c6b1f"
      },
      "source": [
        "#mostrar todos os comentarios\n",
        "for x in (range(len(df))):\n",
        "  if df.reviewBody_us[x] != 'NaN':\n",
        "    print(x, (df['reviewBody_us'][x]))"
      ],
      "execution_count": 43,
      "outputs": [
        {
          "output_type": "stream",
          "text": [
            "1 Good food, nice drinks and a very cozy atmosphere.\n",
            "We tried many things and everything pleased us. Especially a duck served in one of the house dishes, sensational!\n",
            "2 Excellent to go with the family! Great food, pleasant atmosphere, good service and parking. worth knowing\n",
            "3 I have had ice cream at Visabor for over 30 years. Fruit or artificial flavors. Crunchy cone and simple atmosphere. Very good prices. I recommend\n",
            "4 The best hamburger I've ever eaten! Excellent service, the food was great. The restaurant is quite small, but nice and fun.\n",
            "5 The restaurant is new, super cozy and charming with great service. The portions are generous, very tasty and at a fair price. Good selection of wines. I highly recommend the seafood spaghetti, bolognese, carbonara and risotto. The tiramisu is also fantastic.\n",
            "Every time I went with my boyfriend, but it is an excellent environment to take family or friends.\n",
            "7 Great food with good attendance and with a lot of good things to take your wife and girlfriend and family because the food portions are good!\n",
            "thank you\n",
            "9 The pizzeria is the most traditional in Belo Horizonte. There are several options. In addition to the pizzas there is also an exceptional parmeggiana, delicious and juicy\n",
            "10 I was with my family this afternoon for the first time I came across a beautiful and cozy setting. I bought 1 kg of BIG shrimp, I looked at the boy weighing and choosing my shrimp. The disappointment came when I sat at the stall and asked to fry it (I don't want to mention the name) The shrimp arrived very tasty but the big prawns (it came on top) When we went to eat the inside there were only tiny shriveled shrimp (old ones) ) As if they exchanged a good part. So far so good, when the shrimp ended I realized that it had about 20 heads without the body as if it were leftovers ... I called the waiter in disguise and he just made sure he did not listen and went to another table. I really felt like a muggle. Anyway, I ask you to pay attention, the place is great. I loved it, I will be back, but to eat a fish, because shrimp I only buy to take and fry at my house.\n",
            "11 I went to La Bocca after reading so many complimentary and excited comments. First of all, I want to say that I don't understand why some criticize the location so much. It is a quiet, residential street, whose houses are very reminiscent of Rio's suburbs. A grace! Now I will talk about the food. I ordered the highly praised plantain gnocchi with ossobuco ragout. The first mouthful is delicious, but, little by little, it becomes nauseating given the absence of nuances, textures and layers of flavors. The ossobuco sauce sins the excess salt. Overall, a correct dish, but nothing splendid. I emphasize, however, that it is an oasis to eat pasta made at home in this Rio de Janeiro populated with frozen third-party pasta disguised as gnocchi.\n",
            "12 Excellent restaurant!\n",
            "The diversity of the self served very high taste and unmatched flavors!\n",
            "The only restaurant I can eat sushi and saschimi with total food security!\n",
            "I am number one and super recommended!\n",
            "13 I liked the food as much as the service, the price is good and the location is reasonable, I have nothing to complain about, I recommend\n",
            "14 One of the best restaurants with vegetarian buffet with grill options in the center of Porto Alegre. The options are varied and very well done. Soups, desserts and refreshments included in the price. Very good value for money!\n",
            "15 Everything is good! Chef Juarez is great and a love. Great service. Great presentation of the dishes. Wonderful food. Incredible desserts. Good price. Without a doubt my favorite.\n",
            "16 The DR LASER Family was on Saturday for an informal lunch ... A well prepared Grill and a very varied Buffet with an ok price, make the place a good option for a quick weekend lunch.\n",
            "17 Indescribable, I had never eaten tapioca and decided to try it in Natal-RN, I ate in some places, but by far this was the best. The only place in our stay that we made a point of repeating, even though we knew we could lose another attraction, but it was worth the risk of losing a new attraction, because this place is just wonderful. Go prepared, because the portion is well served and the dessert is huge! We tried some, but the best was Carne de Sol with Cream! ! !\n",
            "18 He had seen the criticism and really expected more. The service was great and everything was fresh, but it wasn't the best ceviche I've ever had. Well gourmet. The very small portion.\n",
            "19 This restaurant is located on Avenida Conde, easily accessible to those in the center and the surrounding area. It mixes contemporary dishes with a tendency to those of the Iberian peninsula. Try the starters, for example the ragout. An excellent choice is also the Mediterranean. Attentive waiters and a welcoming atmosphere leave us with a taste for more. Worth the visit.\n",
            "20 Located a little far from the center, it is a quiet place with great structure (very good and comfortable tables and chairs).\n",
            "The menu is a little weak due to the size of the restaurant .. there is not much variety of portions.\n",
            "It's great because it doesn't get too crowded, and the sea ahead is very calm.\n",
            "Average service.\n",
            "21 I had lunch with friends at this place and I really have to comment, delicious food, draft beer, excellent service, nothing to complain about, a place for families, couples and a group of friends.\n",
            "22 The place is very beautiful and has beers from other countries, but the prices are very salty and the service was not the best.\n",
            "23 The bar was packed, so far without problems, after all it was December 30th.\n",
            "The biggest issue was, the very rude promoter, a total disorganization regarding the clearance of the tables and the air conditioning was far from working, the doors open without the wind curtain equipment, it only made it worse.\n",
            "Trying to order drinks at the bar didn't help either, the waiters are all located in one place at the counter, you need to be waving the command or being squeezed at the end where they are serving.\n",
            "The minimum we expect from a beachfront bar is to work very well in the summer.\n",
            "The evaluation is very compromised, I couldn't drink or eat anything.\n",
            "24 Loopfood is one of the best sandwiches in Curitiba. Light, tasty and well seasoned, there's no mistake when you're hungry. The request is to eat together with a juice, there is no way to say no.\n",
            "25 Good service fair price very good food very pleasant the place at night has a beautiful people super recommend\n",
            "26 Tereza's house is for me the best in Salvador! Starting with the location, in the most bohemian neighborhood of Salvador, in an old house, with rustic decor, accompanied by the sound of a grand piano, which harmonizes so well with the exquisite menu.\n",
            "It goes beyond a gastronomic experience. \"See, hear, feel\" ...\n",
            "Bahian cuisine under a sensitive and daring touch makes this restaurant exceptional.\n",
            "27 The restaurant's presentation is an attraction in itself, all decorated with Northeastern themes! The tapiocas are delicious, huge, also offers couscous, salads, juices and smoothies. Very good!\n",
            "28 The worst thing that can happen in a restaurant is that you are cheated. I chose the filet mignon dish with the wood sauce and when the dish arrived there was only a small slice of very hard meat, which, as I understand it, was a hard leg. It shouldn't have been even 50 grams, it was a small, thin slice. The restaurant's unfortunate attitude was once good.\n",
            "29 Single price vegetarian restaurant with the right to repeat food and juices, but I felt full right away on the first dish and juice. Do you accept credit card. There is a lack of dishes with lighter seasoning, more colorful presentation and less nauseating aroma. Going without meat is not easy, if vegetarian dishes are not tasty it is difficult to return.\n",
            "30 Place with typical and specialized food in carne de sol, which comes with string beans, manioc, pirão de leite, .... A plate for two and left over, in our case. Fair price and excellent service. goat.\n",
            "31 I had lunch in January this year! Main dish is Carne do Sol à Potiguar, this meat is very tender and accompanies: Cooked Macaxeira, Paçoca, Butter\n",
            "of bottle, Farofa, String beans .....!\n",
            "33 I already knew the house, as always Wonderful food, atmosphere, music all perfect, but Francisco (Chico) ..... the best service, the best, beer and cold sparkling wine and always tireless. Congratulations on the best waiter.\n",
            "35 The location of the restaurant is already worth it ... It is inside the Mangal das Garças - place we love !! We were very well attended but we found it expensive for what it provides .... It presents typical dishes with peculiar flavors in the self-service scheme with fixed price !!!\n",
            "36 The place is delicious for a beer on a sunny day mostly. The food is good as is the service. But prepare the pocket, as it is easy for the account to exceed 100 reais per person.\n",
            "37 A perfect restaurant for those looking for regional food. A very kind place on earth. Good for you to go with family friends. Very delicious food.\n",
            "38 Nice and relatively stripped down. Attentive but not excellent service. Reasonable drink menu, some good beer brands are missing. Pizza well done, but not delicious. In summary, the location is good but not great. Rio de Janeiro is in need.\n",
            "39 A restaurant with unique flavors and varieties. Excellent dishes and very good service.\n",
            "40 Wonderful hamburger with first class ingredients\n",
            "Excelent reception\n",
            "And clean and cozy environment.\n",
            "41 The health of Nilo Peçanha was better and cleaner. I ordered a natural chicken sandwich and came a pile of leaves with shredded chicken and an indecipherable yellow sauce, tasteless and falling apart. I don't think they ever cleaned windows or made maintenance on the deck, left. Feather.\n",
            "42 Quick and affordable snacks, a good choice for the weekend with friends or children. Good menu and service\n",
            "43 Very nice place, excellent food, impeccable service ... the place really surprised me ... congratulations\n",
            "44 Very good food at a fair price. Don't forget to eat the coxinha.\n",
            "Come prepared for a short queue, no more than half an hour\n",
            "45 Very good service. Standard service. Food very well served. Optimal quality. Pleasant environment. Sound at low volume.\n",
            "46 Cantina di Napoli is an excellent option for Italian cuisine in Fortaleza, with great service, good wine list and a typical Italian menu, as well as contemporary cuisine. Don't forget to try the seafood spaghetti ...\n",
            "47 Pleasant atmosphere, with good music and service note 10. Congratulations to waitress Iraci, very attentive!\n",
            "48 Spaces and with 3 different environments, the drinks are great, the options of appetizers and food on the menu are factual and please everyone and the prices are fair.\n",
            "Sometimes the service leaves a little to be desired, but for that it is not very demanding you may not even notice the delay.\n",
            "49 The lounge is large and the tables accommodate groups. At the entrance is a shelf with wines that you can choose and order at the table. The starters are excellent, but small. The pasta with bourgnion sauce is delicious!\n",
            "50 I love McDonald´s sandwiches, especially the Big Mac and today I tried the Super Big Mac at Shopping Recife, made with three hamburgers and it was even more delicious, super delicious ... I loved it! I also like ice cream a lot! In short ... I'm a fan! LOL\n",
            "51 Spread throughout the capital of Paraná, Restaurante Madero is a hamburger specializing in hamburgers and steaks.\n",
            "52 Self-service, located close to large companies. The value of kg is very cheap and the meat is good.\n",
            "53 Beautiful and super cozy place! Excellent music. Great service, super attentive waiters! Antipasti table with lots of options! Price justifies the quality!\n",
            "55 The facilities of the place already draw attention: with Italian characteristics, beautiful! The menu has many options of salads, starters, breads made by itself, all very fresh! .. the coffees are excellent, served not in cups, but in ceramic bowls, I loved it! for those who like to try new things - walnuts, cheese, honey accompaniments - and a purposefully rustic atmosphere and a good choice. Despite the slightly spiced price, it is worth the visit !.\n",
            "56 Good food, good atmosphere, compared to Camarões Natal RN, it leaves something to be desired, starting with the service.\n",
            "58 Excellent restaurant.\n",
            "There were two units when I went to Maceió: one close to the Craft Fair and another close to the Mercure Hotel. We went with a couple of friends together. They are different environments (the menu is the same): next to the Fair they have a more relaxed and young atmosphere with live music. Near the Mercure the lounge is closed and an environment with more families. I recommend the Shrimp Gum! You will not regret!!!\n",
            "60 I go to Felipe a lot, for me the Portuguese food is the best in the world. I start with cod or octopus with white wine and finish with lamb and red wine. Dessert, always, french toast!\n",
            "61 Eric, is a waiter at Coco Bambu Sul. Excellent service, attentive, friendly and seeks to expedite all orders quickly.\n",
            "62 I was with my family at Coco Bambu near Beira Mar in Fortaleza and ordered a dish that always like in São Paulo and without exception always comes out wonderful. But on this visit the Beira Mar branch was very disappointed with the dish. First the amount of Cameroon was extremely reduced, and with that what came was potato straw and rice that was dry. I complained to the waiter who agreed with the criticism, and told me that the Maitre d 'would come to the table, which I am waiting for so far. Summary, lousy dish and no attitude from the house staff. Unfortunate. The bill was over R $ 270.00.\n",
            "63 Perhaps the best meat (or at least cost benefit) in Porto Alegre is served here. It is not a traditional gaucho barbecue, but a Uruguayan grilled parrilla. The simple atmosphere, with attentive and well-prepared waiters, invites you to Uruguayan cuts of excellent quality. Don't forget to order the provolone cheese, a must!\n",
            "64 I expected more from the service and especially the food ... nothing stupendous ... normal, satisfactory and average.\n",
            "65 I spent Friday night with my family at the restaurant, and decided to opt for a menu option other than the buffet since I wasn't going to eat much. My boyfriend went to the buffet and brought rice, but said he didn't want to eat until the end. So I tried only the rice from his buffet - a common practice when we go as a couple and want to try each other's food. Well, in the end the bill came as a portion of extra rice (as if I had \"taken advantage of the situation to eat rice\") and as if it had been two portions, with a value above that indicated on the menu. My disappointment was extreme, due to the lack of education and preparation of care.\n",
            "66 The place is simple, but the food is good and reasonably priced. It is possible to order and take it home.\n",
            "67 I found out I was one of the best, so I wanted to take the test! Great! I ordered cod and Pastel de Belém which left nothing to be desired than what I ate in Portugal! Added to a good wine and good chat! I recommend!\n",
            "68 The best late afternoon snack in Porto Velho. Regional and Pará food, with the best crab soup.\n",
            "Tip: the tempting cake is perfect\n",
            "69 A menu of great natural and tasty options, well executed and with great service. Every time I eat at Frutaria, I keep thinking that I have to go back to try another dish.\n",
            "70 The place is located in a beautiful Vilela in Petrópolis, and has outdoor and indoor tables. I went at night, the service was good and fast. I ordered a divine shrimp crepe (R $ 22) and my husband ordered a filet mignon (R $ 35). The only thing left to be desired was the rice, completely unsalted. The rest, I loved it!\n",
            "71 The atmosphere is very pleasant, the menu very good, with some very typical dishes. The decor is very beautiful, with the pictures on the landscape wall and the bar with the horizontal mirror on top. However, it is not physically like an Italian restaurant. Typical Italian restaurants have traditional set (or semi-set) tables with traditional chairs and do not have the configuration of tables with American cafeteria stalls and not even drinks like iced teas ... I worked 10 years ago in an Italian Restaurant in Italy , so I understand that this part was a commercial addition to the restaurant that doesn't exist in Italy. But overall, it is a very pleasant experience.\n",
            "72 The service was good and the fried fish dish with pirao was very good. I recommend this place as well as Lopanna.\n",
            "73 Unique restaurant. There you will find flavors and ingredients typical of other regions of Brazil, such as pequi and others.\n",
            "Service by the chef and owner. It is not cheap but worth knowing.\n",
            "74 Excellent pizza! They serve only alacarte, but a large pizza will serve two people peacefully.\n",
            "Location very close to Av. Boa Viagem.\n",
            "75 Sorry to beer fans Brahma and Co., but there is nowhere near a good place to taste good beers. Let's start with the letter of 'specials', as the Teresinense calls the artisanal ones and a couple of imported ones, like Stella Artois etc. A place that could have a beer sommelier, in addition to real beer taps, like wheat, Ale, IPA, among other options that in any store that has the name BEER in the name we can find. The guys who serve us don't know the glasses for each style; we are not offered something to harmonize with the particular style that was requested ...\n",
            "Anyway, those who like it there are because they want to watch TV or be seen in a bar in a shopping mall in THE ...\n",
            "76 I love the Usina's long rifle, the sauces are excellent, but the big difference, really, is the pasta. Unfortunately always full, it is difficult to get lunch there ... however, depending on the day, it is worth it ....\n",
            "77 The place is great and super nice, my friends and I were served very well by the waiter Roberto, SUPER RECOMENDOOOOOO!\n",
            "79 I have been there at the lunchtime buffet and at night a la carte dinner. In my opinion it is the best dinner in Belém, it was the best cub with chestnut crust that I eat in the city and serves Amazon beer.\n",
            "81 Nothing so interesting except the tapioca and crepes made to order that are a marvel. But the rest of the breakfast buffet is average and so is the service; I hope they improve in that aspect.\n",
            "83 The place is pleasant. The food is good and the service is also an excellent experience in the city of Porto Velho for those who like good Brazilian food, especially mineira. It is worth knowing and enjoying\n",
            "84 It serves a good barbecue, the atmosphere is open, ventilated but I could invest more in attracting the customer with some difference\n",
            "87 This is the best Christmas steakhouse, with a varied meat and fish menu, personalized service. For those who like Japanese food you will enjoy it because the sushi is magnificent. But for my family the noble steak was wonderful and the roasted lamb was also divine. It also has a selection of incredible desserts. I recommend.\n",
            "88 Excellent pizza, thin crust, made in the wood oven. Wonderful place for those who want to see and be seen ... well frequented, always have a waiting line. Best to make a reservation ... It has a unique wine cellar that is worth exploring.\n",
            "89 Amazing food, wonderful place.\n",
            "Waiter Italo super attentive and polite ... congratulations to the house ...\n",
            "90 Salad bar very good, but the meats are the highlight. Always at the right spot, they arrive hot at the table, very well served by waiters specialized in the subject.\n",
            "The service is excellent and the atmosphere is very pleasant due to the large windows that allow more external light.\n",
            "91 The best Christmas restaurant for me. Very tasteful atmosphere, impeccable food. Not to mention live music! Sensational ... our favorite!\n",
            "92 Great service, delicious food! Very well served too, excellent value for money! Thanks to waiter William for his promptness!\n",
            "93 Located in the avenues of Plaza Savassi. Eclectic environment. Cold beer and good appetizers. Really Bahian waiters, who attend with sympathy, and all the \"malemolence\" characteristic of Bahia.\n",
            "94 A pleasant surprise. I came to Goiânia for work and, at the recommendation of a friend, I had lunch at Kanpai.\n",
            "Wide and pleasant atmosphere, kind and attentive service, spectacular food.\n",
            "A tip: the executive festival is very worthwhile. It's food that never ends;)\n",
            "95 Despite being dark this region of downtown Rio and well policed ​​and if you don't feel safe go by taxi. A chic gafieira with moderate prices and great drinks. Stay at the snack bar. With two or in groups and good for dancing and relaxing to the sound of gafieira. Good ambience with several levels allowing you to choose. Enter the night of Rio in an authentic Rio gafieria.\n",
            "96 The difference is the children's play area. The menu is varied, the prices are compatible with the quality offered.\n",
            "97 Brazilian cuisine, incredible menu! Justifies the high price and the view is a delight apart! The tapioca ice cream dessert with açaí sauce is simply unmatched!\n",
            "99 This restaurant serves crab in many ways.\n",
            "\n",
            "The food arrives fast, but has been ready for a long time, neither hot nor cheap.\n",
            "It is worth the experience of eating crab, for those who do not have this delicacy in their daily life.\n",
            "100 Lots of variety of typical foods, great service, ample environment to receive groups. worth knowing\n",
            "101 I've lost count of how many times I've come! I recommend Crispy and Lemonades, both are sensational. Congratulations to Moriconi, impeccable service.\n",
            "102 I did not try the pork ribs because it is too big for individual portions, mad I felt like all the tables were asking.\n",
            "Grilled fish was very tasty, mad the green shrimp rice that accompanied it was horrible.\n",
            "Very cold beer !!\n",
            "103 with a variety of snacks very good you just need to speed up the service sometimes and it takes a little time\n",
            "104 I always have lunch there with the family. Buddy price and options for all tastes, except red meat. Fresh juices made fresh, delicious snacks and a grocery store of natural products and breads made at home with lots of variety and fair prices. I could invest in improving the look, because the table room is not pretty ...\n",
            "106 It has a cozy atmosphere, great for meeting with friends and colleagues to spend good hours hanging out.\n",
            "107 The restaurant is very pleasant and the staff are very attentive.\n",
            "\n",
            "They have other dishes besides the famous Pitú. We ate a sirloin steak that was wonderful.\n",
            "\n",
            "I recommend. Medium to high prices!\n",
            "109 Excellent food even with the name of Cameroon has other types of food. Perfect service. Super recommend cozy place.\n",
            "110 Want to eat well and cheaply in Rio de Janeiro? Go to the South Zone and order a good pizza with a wine taken directly from the place of your choice!\n",
            "111 Well frequented place, with varied buffet and single price. Because it is very crowded, you must arrive early. It is on the edge of Atalaia, has a parking space.\n",
            "112 The barbecue is delicious and the side dishes too, but the price is a little bit salty, but the quality, flavor and service make up for the value.\n",
            "113 a great draft beer with a bit of a tumultuous service as you find it a lot on Fridays, but the waiters try hard to make you the best service possible.\n",
            "The portions are delicious\n",
            "114 R $ 61.90 per kg in September / 16\n",
            "The best top hat I ate in Natal.\n",
            "Also, if you want to try regional food, this is the perfect place.\n",
            "A very varied buffet, all very well done and warm.\n",
            "Unparalleled service. Very attentive waiters.\n",
            "Top 5:\n",
            "Cassava bread, sweet or salted; juices (some mixed); the meat with cream; cheese cake; hide meat from the sun ....\n",
            "In addition there is risotto, Baião de dois, green beans, various soups, breaded fish, breaded chicken, couscous, hominy, cheese table, salad ......\n",
            "You have to be very focused not to eat a little of everything.\n",
            "\n",
            "Detail: the dish is huge! Make no mistake about the amount you put in it.\n",
            "\n",
            "Detail 2: they have an internal store that sells a lot: some sweets, avoador, regional items and even the famous mangai bread. Even an individual couscous pot sells ...\n",
            "\n",
            "Detail 3: I saw a couple of tables celebrating their birthday there.\n",
            "\n",
            "Different place and very good food!\n",
            "115 When we visited the Bamboo poop, surprised by the excellent service provided by Garson Ronaldo Martins, we note 10 congratulations to the Bamboo poop for having such a professional.\n",
            "France da Silva\n",
            "12/16/2019\n",
            "116 great pizza, really delicious with excellent ingredients and flavors that escape the traditional .... very welcoming atmosphere, attentive staff .... only negative point is the time: the house closes at midnight but long before they are removing the salad buffet and end the rotation for which I was disappointed by the size of the establishment. I had eaten a few pizzas around the clock (+ - 11 pm) until the waiter came to ask me if there was any particular flavor that was waiting ..... after eating the flavors that I brought, I did the same with the sweets ... I ended up eating little variety .... I found it very disrespectful to the customer even for the amount paid which is not at all cheap.\n",
            "117 The restaurant offers good dishes, does not have a quick service but it is worth going for lunches anyway.\n",
            "At lunch, it offers music played on an exposed piano in the middle of the restaurant, with a lot of vegetation.\n",
            "118 Churrasquinho do Japa is good value for money, well located and with good food. The skewer is worth it, the garnishes are well prepared. However, as a negative factor, the lack of cooling is felt in the hottest days.\n",
            "119 As I passed the door of this little Italian trattoria, I was already curious, because the atmosphere is very charming and inviting; then I went with friends to dinner and I had a great surprise, a dry but honest wine list, full and tasty dishes, very efficient and friendly service, and with the right to taste two lemoncellos at the end as a courtesy. Now ... dessert was not exciting, and I believe that several restaurants have hired the ready-made confectionery part through specialized companies, which unfortunately leaves something to be desired.\n",
            "120 good options on the menu, quality products, fair prices, good service, easy access, worth knowing.\n",
            "121 You will never imagine that you will find such good cod in Manaus. My husband has lived in different parts of the world and Alentejo is his favorite restaurant.\n",
            "Sophisticated, elegant and pleasant atmosphere.\n",
            "Everything is good, the cod, the vegetables and even the rice!\n",
            "Impeccable service! Geraldo and Tati are very professional and dear.\n",
            "It's worth taking a shirt if it's too cold;)\n",
            "I recommend it, even for tourists (who normally seek regional cuisine). Surely you will be surprised.\n",
            "122 Great service, good location and great food! I'm in love with the sun meat. Easy access.\n",
            "123 Affordable location, great service, comfortable rooms and delicious food. Chef Ana Carolina is to be congratulated!\n",
            "124 Very cool atmosphere, quality food. I really like the fish, the delights of humm ... Airy place and plenty of space\n",
            "126 When I think of crab, only Caranga comes to mind ... I've been to others, none of them compare with the quality of the crabs there. Tasty ... loose from the shell ... the mush with shrimp inside ... hmmm ... not to mention the perfect service and super pleasant environment. ..\n",
            "130 A regular at Due Cuochi at Shopping Cidade Jardim, we decided to celebrate my daughter's birthday at Henri Dunant's house. The experience was the best possible. Although relatively crowded, it is quiet, spacious and very well decorated. The service is excellent and very careful. The wine list offers a good variety and the dishes, especially the pasta, are very tasty.\n",
            "A rarity nowadays in São Paulo, there is free valet parking on site.\n",
            "We will be back for sure.\n",
            "Hope this helps.\n",
            "132 Very pleasant call with great service. Everyone was very attentive. Food well served with great portion. It's really worth it\n",
            "133 An extremely comfortable restaurant, impeccable service, air-conditioned and with great meat options, the place has a warm, calm atmosphere and with a piano played live, which leaves a perfect atmosphere (The pianist is great), the dishes are very satisfactory , both in quality, quantity and presentation, mr. Freire (Maîte), is an excellent professional, he reminded me, I'm from São Paulo, and I hadn't visited him in 1 year, it was gratifying to see him again. For me, it is one of the best places in Fortaleza, it’s the 5th time I’ve been and I don’t miss visiting it, I certainly recommend it, note 10.\n",
            "134 I liked having eaten at El Arabe Culinaria Chohfe, because a food with an excellent seasoning, I hope you can eat the sphinx from there again.\n",
            "135 When I went, it was empty but the service was very slow. I complained and in a minute the request came.\n",
            "136 Very good pasta, excellent fillings, the ones I like most are beef jerky and dulce de leche; with excellent price.\n",
            "137 I always went ahead, and I confess that the smell of cake was a temptation. Until one day I decided to come in and take this delight home. For what sir, now I am addicted, it is law to leave work and stop by to get a cake. Homemade bread is wonderful too. Congratulations all very perfect, done with care and love.\n",
            "138 Good for “having a drink” with friends, cheap and cold beer.\n",
            "Service a little time, I believe because of the full tent, but at least do not charge 10%.\n",
            "Excellent starters!\n",
            "139 The cafeteria is good. The food is great and the prices are very affordable, not to mention the location, in front of Iracema beach, but the snacks are simple.\n",
            "142 Although the unit is already a few years old, it was the first time I was there. The atmosphere is simple and friendly. I liked the service, because the waiters were very attentive. The meat was very good, although the sauce that accompanied it was a little too strong for my taste (maybe it could be optional or have other options). Even though the \"footprint\" of the place is simple, I would like to suggest that the cutlery should be changed when the main dish arrives, since they had already been used in the salad plate. However, in the end, the bill seemed quite heavy for such a simple dinner.\n",
            "143 Excellent service, variety of sushi and sashimi.\n",
            "And the most interesting is the innovative system of rotation, with low waste and high variety. I recommend it to everyone.\n",
            "144 I bought 03 ice creams and after consuming they came to claim internal rules of charging 1.00 more for each one when paying by credit or debit card. They say they can do that because it is in the law. But the law does not speak of values ​​or forms of payment !!! They refused to understand the law. It was a total inconvenience. They are assaulting customers !!! Cashier Sassá, says his name is Julielson, he refused to call the owner, says he is called Gleidson, to solve the problem and even made fun of the case !!! In short, terrible location. An assault on customers on their \"rights\".\n",
            "In the images are the official law and their law in the pen, fixed in hidden places in the bakery.\n",
            "\n",
            "DO NOT BUY, DO NOT GO THERE. AVOID PASSING DISORDER.\n",
            "\n",
            "I DO NOT RECOMMEND IT TO MY ENEMY.\n",
            "146 meat to the point, family atmosphere, great service, especially the one who served us, who was the attentive and polite Orlando, who took all our doubts and made the night more pleasant, it was a pleasure to be in this restaurant, one more made me feel at home and I hope to return soon\n",
            "147 For me, one of the best meats in Fortaleza. Pleasant atmosphere, quality service. A real Argentine barbecue.\n",
            "148 Tapioca is a delight. has several flavors. I ordered sun-dried meat with rennet cheese (which I love!). At lunch there is buffet per kilo. Varied menu. They even serve cod! R $ 60.00 a kilo ... kinda pulled, right?\n",
            "149 Regular carvery barbecue, but the rib is special. Soft like no other. Specialty of the house that attracts people from different places. Who hasn't been, don't miss this good option.\n",
            "150 The red grill is very well located, simple and airy rustic atmosphere, with ideal light, tailored service, with cold drinks and offers a meat menu in the right measure with variety and very well made. The best and the taste. Just be careful with the point of the meats. Because the point is important for those who appreciate meat. Ask for help if you need it.\n",
            "152 Sensational!\n",
            "We ordered the Super Summer dish.\n",
            "\n",
            "Super nice atmosphere, very good service and the food without comment.\n",
            "I highly recommend it.\n",
            "154 Excellent food and well served portion. Differentiated service and over 3 people the cost benefit is super affordable.\n",
            "155 Very good pizza with a variety of flavors. The value is not the cheapest. But it's worth it to eat quality pizza.\n",
            "158 Nice atmosphere, good music.\n",
            "\n",
            "Outside there is a pool table, late afternoon or evening should be nice.\n",
            "\n",
            "The dishes are more pasta, which is not fresh homemade, pomodoro or white sauce with a meat, not excited.\n",
            "159 Ara is a very interesting restaurant, with Korean food, I found the food taste really cool, it is very spicy and has that touch of bittersweet food.\n",
            "160 The bar has excellent aperitifs, the band is lively and the style is chorinho, samba .. The only negative point is the time to get a table and the value of high season tickets. The feijoada on Sundays is the highlight. Excellent, the best I've ever eaten!\n",
            "161 Nice atmosphere, good service !! Dishes for all tastes .... in the beginning the crab cone is a great option !!! I asked for the famous \"shrimp gum\" that comes with 5 cheese options and I found it very tasty (while hot, when the cheese gets cold and hard and sickening) the other people who were with me tried the smart lobster (TOP), shrimp with catupiry ( TOP tbm), shrimp in butter with herbs from the garden (excellent) and filet mignon in a wine and green pepper sauce with noodles in parmesan sauce (a little hard meat) for dessert pétit gateau (very good) and passion fruit mousse with mango jam rose and tapioca ice cream (typical dessert delight) anyway, it's worth it! Super recommend!\n",
            "162 A fine restaurant, well structured, very well decorated.\n",
            "Wonderful food, very hearty portions.\n",
            "Very tasty food and divine seasoning.\n",
            "Where you can eat shrimp prepared in an infinite variety.\n",
            "163 The buffet is typical, fresh, delicious food. The star was due to the risotto if duck made fresh. We found the 57 reais a bit high, and the service leaves a lot to be desired.\n",
            "164 A great find of typical Goiás food, those who are in the city should try at least the fish on the tile and the small pot. An excellent restaurant, I recommend it!\n",
            "168 Plenty of options in self service, exceptional quality! I recommend the salmon. The price matches the quality of the food!\n",
            "170 I ate a delicious prawn moqueca, all very well prepared with great seasoning and flavor, very loose rice, fresh salad and cold drink, good service and inviting price.\n",
            "171 For those who love seafood and have a spare budget to invest in good food, I strongly recommend Coco Bambu. The atmosphere is pleasant, in good taste and the service is very good. To those in love with shrimp, I leave two tips: the portion of shrimp pastries and the portion of breaded shrimp with sesame. Worth every penny (and look it costs a lot of cents)!\n",
            "172 I spent years attending the kitchenette, mainly with my friends. I really liked the menu and the quality of the food / drinks.\n",
            "About 3 years ago I went a few times, but not successfully. Last time (2 days ago), I decided not to come back. First, the waiter who served me didn't know that there was a drink menu. Afterwards, the sandwich I ordered was dry ... The waiters were not attentive and seemed to be upset about something ...\n",
            "It is true that the starter we ordered (a mince of steak with mushroom sauce) was really wonderful. But, to be honest, it was the only positive aspect ...\n",
            "173 Yesterday my husband made a reservation to celebrate my birthday.\n",
            "At the first contact, they rudely warned that after 8:30 pm the tables are occupied on a first come, first served basis. They sent us to the first floor without even showing us the way. We sat down and ordered the menu 3 times. After about 20 minutes we received the same and while choosing the dishes I checked the information that they do not accept cards, only checks or cash. An absurdity in the middle of Ipanema and the XXI century. I don't think it's a good idea to have at least R $ 500.00 in the bag, at night in Rio de Janeiro to pay for dinner. We got up and decided to leave for another restaurant. The valet returned the car, all dirty with cement, as they parked it at the Metro construction site. We left for Restaurante D'Amici in Leme, where we were well served, where the grouper ravioli with prawns and saffron sauce was divine.\n",
            "175 Restauranfe excels even for those who don't like fish or seafood. When I stay at Fasano I always dine there and I really like it. I rarely go when I'm not at the hotel because I'm Al Mare and I don't like fish. The only thing that has always intrigued me is that wall that covers the views of one of the most beautiful scenery in the world, which is the sea of ​​Rio. But the treatment and sophistication of the place is without prejudice.\n",
            "176 Fish in which they are in the cadapium and their wonderful companions. Very tasty golden and the accompanying potatoes.\n",
            "178 Excellent restaurant. Whenever I have the opportunity to return and have pleasant surprises. The food is a mixture of regional ingredients made in a more sophisticated way. It's a must!\n",
            "179 We arrived around 9:00 pm on Sunday, there was no waiting.\n",
            "We were very well attended, responsive service.\n",
            "Picanha was sensational, like the other cuts.\n",
            "Pleasant music (piano).\n",
            "Very cheap compared to Bh.\n",
            "I indicate certainty.\n",
            "180 I saw the reviews about this pizzeria and decided to take a chance, I found the pizza excellent, in fact, since I didn't eat such a good pizza.\n",
            "181 We ordered a filet of prima donna crust and a crispy shrimp with leek risotto. I recommend for sure!\n",
            "182 He is part of the manga group, no introduction required! Excellent what to order is guaranteed to come with quality and flavor\n",
            "183 The local specialty is Tilapia, fish from the region. The portion with all varieties of tilapia, fried, breaded, with cheese, with bacon ... is my favorite. The small portion serves about 3 people, you try various types of tilapia and it is good to have a chat, having a beer and pinching a goldfish.\n",
            "The place has space for children and they are very well looked after. Depending on the date it can get a little crowded.\n",
            "They also have their own parking and the location is very good.\n",
            "184 I loved the food, simple with unparalleled flavor .. From the owner to the cook they serve very well, if you want to change something just ask .. Sympathies is the strong and a good chat ..\n",
            "185 Very nice place, great to go with friends and or boyfriend, for having a pleasant environment and a very beautiful view.\n",
            "186 We went to the restaurant with the suggestion of a friend. We were at Savassi and we got there quickly. The big surprise was the sauces that accompanied the two dishes we ordered. Very tasty! A portion of surubim with such an \"auntie sauce\" was very tasty! We also ordered a trio consisting of tilapia torresminho, linguicinha and manioc cake. This trio accompanied a lemon sauce and another that looked like barbecue. Anyway, all very good! And, to top it off, chilled beers! And the price is very easy. I highly recommend it.\n",
            "187 Top quality cuisine. Simple atmosphere with extremely attentive owners, homemade pasta that reminds us of Italy. I recommend everyone to visit maceio. Unmissable.\n",
            "188 Very tasty dish! Soft escalope, impeccable nhoc! In addition, the presentation of the dishes also conquers!\n",
            "The service is good! Family atmosphere\n",
            "189 Buffet very good, I was at my cousin's party and the service was good, they served with timing and the snacks were still warm and the beer was cold.\n",
            "190 Excellent food, differentiated service. Sophisticated environment. It is worth knowing and discovering the cuisine of Fortaleza.\n",
            "191 I really enjoyed the restaurant, great service, very good food and a wonderful view of Bahia de Guanabara. I went for lunch and it was free Bufffet.\n",
            "192 Wonderful place, great service by the waiter Deodoro, we recommend everyone. You can bring your family, the house specializes in fish, but it also serves good steaks and salads. Try the parmigiana fillet and you won't regret it.\n",
            "194 The bar is on the edge of the beach, has ambient sound, live music, good snacks and cold dishes and beers. The positive point of this Bar is the values ​​of the dishes and beers, compared to Rio de Janeiro. I recommend\n",
            "195 I looked for the tip here on tripadvisor and it was perfect! I tried a reservation at 20:00 but it didn't happen. We went straight and arrived at 20:30, with a queue for 2 people of 30 min. It was worth every minute of the wait! Location, service, food ... everything perfect. I highly recommend it!\n",
            "196 We stopped by this establishment to have a quick meal, we liked the prompt service and the quality of our steak and fries. It has live music.\n",
            "197 Located on the 3rd floor of the Eataly, Brace is a cozy restaurant and offers delicious options, from starter to dessert. The service is excellent and efficient.\n",
            "198 A nice and tidy place, with wi fi and a vast menu, it is open during the day for lunch and at night with a snack bar.\n",
            "199 I didn't know where to have lunch so I asked Waze for a good place and when I arrived I saw what food to eat. To my surprise everything was hot, beautiful and tasty. There's a first pepper I bought to take home. The atmosphere is fantastic staff very polite waiters. I recommend\n",
            "200 It's a small place, kind of dark. The meals are good. I've eaten the feijoada and Parmegiana. The service is regular.\n"
          ],
          "name": "stdout"
        },
        {
          "output_type": "error",
          "ename": "KeyError",
          "evalue": "ignored",
          "traceback": [
            "\u001b[0;31m---------------------------------------------------------------------------\u001b[0m",
            "\u001b[0;31mKeyError\u001b[0m                                  Traceback (most recent call last)",
            "\u001b[0;32m/usr/local/lib/python3.6/dist-packages/pandas/core/indexes/base.py\u001b[0m in \u001b[0;36mget_loc\u001b[0;34m(self, key, method, tolerance)\u001b[0m\n\u001b[1;32m   2894\u001b[0m             \u001b[0;32mtry\u001b[0m\u001b[0;34m:\u001b[0m\u001b[0;34m\u001b[0m\u001b[0;34m\u001b[0m\u001b[0m\n\u001b[0;32m-> 2895\u001b[0;31m                 \u001b[0;32mreturn\u001b[0m \u001b[0mself\u001b[0m\u001b[0;34m.\u001b[0m\u001b[0m_engine\u001b[0m\u001b[0;34m.\u001b[0m\u001b[0mget_loc\u001b[0m\u001b[0;34m(\u001b[0m\u001b[0mcasted_key\u001b[0m\u001b[0;34m)\u001b[0m\u001b[0;34m\u001b[0m\u001b[0;34m\u001b[0m\u001b[0m\n\u001b[0m\u001b[1;32m   2896\u001b[0m             \u001b[0;32mexcept\u001b[0m \u001b[0mKeyError\u001b[0m \u001b[0;32mas\u001b[0m \u001b[0merr\u001b[0m\u001b[0;34m:\u001b[0m\u001b[0;34m\u001b[0m\u001b[0;34m\u001b[0m\u001b[0m\n",
            "\u001b[0;32mpandas/_libs/index.pyx\u001b[0m in \u001b[0;36mpandas._libs.index.IndexEngine.get_loc\u001b[0;34m()\u001b[0m\n",
            "\u001b[0;32mpandas/_libs/index.pyx\u001b[0m in \u001b[0;36mpandas._libs.index.IndexEngine.get_loc\u001b[0;34m()\u001b[0m\n",
            "\u001b[0;32mpandas/_libs/hashtable_class_helper.pxi\u001b[0m in \u001b[0;36mpandas._libs.hashtable.Int64HashTable.get_item\u001b[0;34m()\u001b[0m\n",
            "\u001b[0;32mpandas/_libs/hashtable_class_helper.pxi\u001b[0m in \u001b[0;36mpandas._libs.hashtable.Int64HashTable.get_item\u001b[0;34m()\u001b[0m\n",
            "\u001b[0;31mKeyError\u001b[0m: 8528",
            "\nThe above exception was the direct cause of the following exception:\n",
            "\u001b[0;31mKeyError\u001b[0m                                  Traceback (most recent call last)",
            "\u001b[0;32m<ipython-input-43-d6a5aae9a52d>\u001b[0m in \u001b[0;36m<module>\u001b[0;34m()\u001b[0m\n\u001b[1;32m      1\u001b[0m \u001b[0;31m#mostrar todos os comentarios\u001b[0m\u001b[0;34m\u001b[0m\u001b[0;34m\u001b[0m\u001b[0;34m\u001b[0m\u001b[0m\n\u001b[1;32m      2\u001b[0m \u001b[0;32mfor\u001b[0m \u001b[0mx\u001b[0m \u001b[0;32min\u001b[0m \u001b[0;34m(\u001b[0m\u001b[0mrange\u001b[0m\u001b[0;34m(\u001b[0m\u001b[0mlen\u001b[0m\u001b[0;34m(\u001b[0m\u001b[0mdf\u001b[0m\u001b[0;34m)\u001b[0m\u001b[0;34m)\u001b[0m\u001b[0;34m)\u001b[0m\u001b[0;34m:\u001b[0m\u001b[0;34m\u001b[0m\u001b[0;34m\u001b[0m\u001b[0m\n\u001b[0;32m----> 3\u001b[0;31m   \u001b[0;32mif\u001b[0m \u001b[0mdf\u001b[0m\u001b[0;34m.\u001b[0m\u001b[0mreviewBody_us\u001b[0m\u001b[0;34m[\u001b[0m\u001b[0mx\u001b[0m\u001b[0;34m]\u001b[0m \u001b[0;34m!=\u001b[0m \u001b[0;34m'NaN'\u001b[0m\u001b[0;34m:\u001b[0m\u001b[0;34m\u001b[0m\u001b[0;34m\u001b[0m\u001b[0m\n\u001b[0m\u001b[1;32m      4\u001b[0m     \u001b[0mprint\u001b[0m\u001b[0;34m(\u001b[0m\u001b[0mx\u001b[0m\u001b[0;34m,\u001b[0m \u001b[0;34m(\u001b[0m\u001b[0mdf\u001b[0m\u001b[0;34m[\u001b[0m\u001b[0;34m'reviewBody_us'\u001b[0m\u001b[0;34m]\u001b[0m\u001b[0;34m[\u001b[0m\u001b[0mx\u001b[0m\u001b[0;34m]\u001b[0m\u001b[0;34m)\u001b[0m\u001b[0;34m)\u001b[0m\u001b[0;34m\u001b[0m\u001b[0;34m\u001b[0m\u001b[0m\n",
            "\u001b[0;32m/usr/local/lib/python3.6/dist-packages/pandas/core/series.py\u001b[0m in \u001b[0;36m__getitem__\u001b[0;34m(self, key)\u001b[0m\n\u001b[1;32m    880\u001b[0m \u001b[0;34m\u001b[0m\u001b[0m\n\u001b[1;32m    881\u001b[0m         \u001b[0;32melif\u001b[0m \u001b[0mkey_is_scalar\u001b[0m\u001b[0;34m:\u001b[0m\u001b[0;34m\u001b[0m\u001b[0;34m\u001b[0m\u001b[0m\n\u001b[0;32m--> 882\u001b[0;31m             \u001b[0;32mreturn\u001b[0m \u001b[0mself\u001b[0m\u001b[0;34m.\u001b[0m\u001b[0m_get_value\u001b[0m\u001b[0;34m(\u001b[0m\u001b[0mkey\u001b[0m\u001b[0;34m)\u001b[0m\u001b[0;34m\u001b[0m\u001b[0;34m\u001b[0m\u001b[0m\n\u001b[0m\u001b[1;32m    883\u001b[0m \u001b[0;34m\u001b[0m\u001b[0m\n\u001b[1;32m    884\u001b[0m         \u001b[0;32mif\u001b[0m \u001b[0mis_hashable\u001b[0m\u001b[0;34m(\u001b[0m\u001b[0mkey\u001b[0m\u001b[0;34m)\u001b[0m\u001b[0;34m:\u001b[0m\u001b[0;34m\u001b[0m\u001b[0;34m\u001b[0m\u001b[0m\n",
            "\u001b[0;32m/usr/local/lib/python3.6/dist-packages/pandas/core/series.py\u001b[0m in \u001b[0;36m_get_value\u001b[0;34m(self, label, takeable)\u001b[0m\n\u001b[1;32m    987\u001b[0m \u001b[0;34m\u001b[0m\u001b[0m\n\u001b[1;32m    988\u001b[0m         \u001b[0;31m# Similar to Index.get_value, but we do not fall back to positional\u001b[0m\u001b[0;34m\u001b[0m\u001b[0;34m\u001b[0m\u001b[0;34m\u001b[0m\u001b[0m\n\u001b[0;32m--> 989\u001b[0;31m         \u001b[0mloc\u001b[0m \u001b[0;34m=\u001b[0m \u001b[0mself\u001b[0m\u001b[0;34m.\u001b[0m\u001b[0mindex\u001b[0m\u001b[0;34m.\u001b[0m\u001b[0mget_loc\u001b[0m\u001b[0;34m(\u001b[0m\u001b[0mlabel\u001b[0m\u001b[0;34m)\u001b[0m\u001b[0;34m\u001b[0m\u001b[0;34m\u001b[0m\u001b[0m\n\u001b[0m\u001b[1;32m    990\u001b[0m         \u001b[0;32mreturn\u001b[0m \u001b[0mself\u001b[0m\u001b[0;34m.\u001b[0m\u001b[0mindex\u001b[0m\u001b[0;34m.\u001b[0m\u001b[0m_get_values_for_loc\u001b[0m\u001b[0;34m(\u001b[0m\u001b[0mself\u001b[0m\u001b[0;34m,\u001b[0m \u001b[0mloc\u001b[0m\u001b[0;34m,\u001b[0m \u001b[0mlabel\u001b[0m\u001b[0;34m)\u001b[0m\u001b[0;34m\u001b[0m\u001b[0;34m\u001b[0m\u001b[0m\n\u001b[1;32m    991\u001b[0m \u001b[0;34m\u001b[0m\u001b[0m\n",
            "\u001b[0;32m/usr/local/lib/python3.6/dist-packages/pandas/core/indexes/base.py\u001b[0m in \u001b[0;36mget_loc\u001b[0;34m(self, key, method, tolerance)\u001b[0m\n\u001b[1;32m   2895\u001b[0m                 \u001b[0;32mreturn\u001b[0m \u001b[0mself\u001b[0m\u001b[0;34m.\u001b[0m\u001b[0m_engine\u001b[0m\u001b[0;34m.\u001b[0m\u001b[0mget_loc\u001b[0m\u001b[0;34m(\u001b[0m\u001b[0mcasted_key\u001b[0m\u001b[0;34m)\u001b[0m\u001b[0;34m\u001b[0m\u001b[0;34m\u001b[0m\u001b[0m\n\u001b[1;32m   2896\u001b[0m             \u001b[0;32mexcept\u001b[0m \u001b[0mKeyError\u001b[0m \u001b[0;32mas\u001b[0m \u001b[0merr\u001b[0m\u001b[0;34m:\u001b[0m\u001b[0;34m\u001b[0m\u001b[0;34m\u001b[0m\u001b[0m\n\u001b[0;32m-> 2897\u001b[0;31m                 \u001b[0;32mraise\u001b[0m \u001b[0mKeyError\u001b[0m\u001b[0;34m(\u001b[0m\u001b[0mkey\u001b[0m\u001b[0;34m)\u001b[0m \u001b[0;32mfrom\u001b[0m \u001b[0merr\u001b[0m\u001b[0;34m\u001b[0m\u001b[0;34m\u001b[0m\u001b[0m\n\u001b[0m\u001b[1;32m   2898\u001b[0m \u001b[0;34m\u001b[0m\u001b[0m\n\u001b[1;32m   2899\u001b[0m         \u001b[0;32mif\u001b[0m \u001b[0mtolerance\u001b[0m \u001b[0;32mis\u001b[0m \u001b[0;32mnot\u001b[0m \u001b[0;32mNone\u001b[0m\u001b[0;34m:\u001b[0m\u001b[0;34m\u001b[0m\u001b[0;34m\u001b[0m\u001b[0m\n",
            "\u001b[0;31mKeyError\u001b[0m: 8528"
          ]
        }
      ]
    },
    {
      "cell_type": "code",
      "metadata": {
        "colab": {
          "base_uri": "https://localhost:8080/",
          "height": 54
        },
        "id": "XPJQgs8s5_tb",
        "outputId": "12de1617-e9e3-40ba-d040-661391343ffb"
      },
      "source": [
        "comentario_blob_us"
      ],
      "execution_count": 41,
      "outputs": [
        {
          "output_type": "execute_result",
          "data": {
            "application/vnd.google.colaboratory.intrinsic+json": {
              "type": "string"
            },
            "text/plain": [
              "'Beautiful and super cozy place! Excellent music. Great service, super attentive waiters! Antipasti table with lots of options! Price justifies the quality!'"
            ]
          },
          "metadata": {
            "tags": []
          },
          "execution_count": 41
        }
      ]
    },
    {
      "cell_type": "code",
      "metadata": {
        "colab": {
          "base_uri": "https://localhost:8080/",
          "height": 424
        },
        "id": "1HBpEhSF7ND8",
        "outputId": "4d0dfb5c-dfda-4312-8583-a0c9f8d82568"
      },
      "source": [
        "df_comentario"
      ],
      "execution_count": 38,
      "outputs": [
        {
          "output_type": "execute_result",
          "data": {
            "text/html": [
              "<div>\n",
              "<style scoped>\n",
              "    .dataframe tbody tr th:only-of-type {\n",
              "        vertical-align: middle;\n",
              "    }\n",
              "\n",
              "    .dataframe tbody tr th {\n",
              "        vertical-align: top;\n",
              "    }\n",
              "\n",
              "    .dataframe thead th {\n",
              "        text-align: right;\n",
              "    }\n",
              "</style>\n",
              "<table border=\"1\" class=\"dataframe\">\n",
              "  <thead>\n",
              "    <tr style=\"text-align: right;\">\n",
              "      <th></th>\n",
              "      <th>Unnamed: 0</th>\n",
              "      <th>reviewBody</th>\n",
              "    </tr>\n",
              "  </thead>\n",
              "  <tbody>\n",
              "    <tr>\n",
              "      <th>0</th>\n",
              "      <td>0</td>\n",
              "      <td>Comida maravilhosa, lugar do verdadeiro chicle...</td>\n",
              "    </tr>\n",
              "    <tr>\n",
              "      <th>1</th>\n",
              "      <td>1</td>\n",
              "      <td>Comida boa, drinks legais e um ambiente bem ac...</td>\n",
              "    </tr>\n",
              "    <tr>\n",
              "      <th>2</th>\n",
              "      <td>2</td>\n",
              "      <td>Excelente pra ir com a família! Ótima Comida, ...</td>\n",
              "    </tr>\n",
              "    <tr>\n",
              "      <th>3</th>\n",
              "      <td>3</td>\n",
              "      <td>Tomo sorvete na Visabor faz mais de 30 anos. S...</td>\n",
              "    </tr>\n",
              "    <tr>\n",
              "      <th>4</th>\n",
              "      <td>4</td>\n",
              "      <td>O melhor hamburger que já comi! Excelente aten...</td>\n",
              "    </tr>\n",
              "    <tr>\n",
              "      <th>...</th>\n",
              "      <td>...</td>\n",
              "      <td>...</td>\n",
              "    </tr>\n",
              "    <tr>\n",
              "      <th>99991</th>\n",
              "      <td>99995</td>\n",
              "      <td>Ainda não inaugurado oficialmente, está atende...</td>\n",
              "    </tr>\n",
              "    <tr>\n",
              "      <th>99992</th>\n",
              "      <td>99996</td>\n",
              "      <td>Bom atendimento, lugar bonito, comida muito go...</td>\n",
              "    </tr>\n",
              "    <tr>\n",
              "      <th>99993</th>\n",
              "      <td>99997</td>\n",
              "      <td>O Rio Scenarium é uma das baladas mais famosas...</td>\n",
              "    </tr>\n",
              "    <tr>\n",
              "      <th>99994</th>\n",
              "      <td>99998</td>\n",
              "      <td>Fui por indicação e com boa expectativa!\\n116,...</td>\n",
              "    </tr>\n",
              "    <tr>\n",
              "      <th>99995</th>\n",
              "      <td>99999</td>\n",
              "      <td>Experiência fantástica com comida deliciosa e ...</td>\n",
              "    </tr>\n",
              "  </tbody>\n",
              "</table>\n",
              "<p>99996 rows × 2 columns</p>\n",
              "</div>"
            ],
            "text/plain": [
              "       Unnamed: 0                                         reviewBody\n",
              "0               0  Comida maravilhosa, lugar do verdadeiro chicle...\n",
              "1               1  Comida boa, drinks legais e um ambiente bem ac...\n",
              "2               2  Excelente pra ir com a família! Ótima Comida, ...\n",
              "3               3  Tomo sorvete na Visabor faz mais de 30 anos. S...\n",
              "4               4  O melhor hamburger que já comi! Excelente aten...\n",
              "...           ...                                                ...\n",
              "99991       99995  Ainda não inaugurado oficialmente, está atende...\n",
              "99992       99996  Bom atendimento, lugar bonito, comida muito go...\n",
              "99993       99997  O Rio Scenarium é uma das baladas mais famosas...\n",
              "99994       99998  Fui por indicação e com boa expectativa!\\n116,...\n",
              "99995       99999  Experiência fantástica com comida deliciosa e ...\n",
              "\n",
              "[99996 rows x 2 columns]"
            ]
          },
          "metadata": {
            "tags": []
          },
          "execution_count": 38
        }
      ]
    },
    {
      "cell_type": "code",
      "metadata": {
        "id": "QJAFrmZF6qJR"
      },
      "source": [
        ""
      ],
      "execution_count": null,
      "outputs": []
    },
    {
      "cell_type": "markdown",
      "metadata": {
        "id": "vFf4JHGb7i5E"
      },
      "source": [
        "#**1 - Visão Geral dos DADOS**\n",
        "\n"
      ]
    },
    {
      "cell_type": "markdown",
      "metadata": {
        "id": "QNJcWY6uz9JP"
      },
      "source": [
        "##**Histograma**\n",
        "## Qual a distribuição das estrelas dos participantes da pesquisa?\n",
        "## A maioria dos participantes deram conceitos na  faixa entre 3 a 5 estrelas, sendo 5 a mais frequente."
      ]
    },
    {
      "cell_type": "code",
      "metadata": {
        "colab": {
          "base_uri": "https://localhost:8080/",
          "height": 296
        },
        "id": "nvw-2o4kyOqj",
        "outputId": "d3371888-d2c9-4b21-ddfe-707aa3b025b0"
      },
      "source": [
        "import numpy as np\n",
        "import matplotlib as mat\n",
        "import matplotlib.pyplot as plt\n",
        "df.ratingValue.hist(bins = 5)\n",
        "plt.xlabel(\"Nível de Avaliação\")\n",
        "plt.ylabel(\"Número de Avaliações\")\n",
        "plt.title(\"Distribuição do Valor da Avaliação - Estrelas\")\n",
        "plt.show()"
      ],
      "execution_count": null,
      "outputs": [
        {
          "output_type": "display_data",
          "data": {
            "image/png": "[encoded data removed]",
            "text/plain": [
              "<Figure size 432x288 with 1 Axes>"
            ]
          },
          "metadata": {
            "tags": [],
            "needs_background": "light"
          }
        }
      ]
    },
    {
      "cell_type": "markdown",
      "metadata": {
        "id": "HUpFhn01x0Y-"
      },
      "source": [
        "##**Informações Sobre de onde saiu os comentários:**\n"
      ]
    },
    {
      "cell_type": "code",
      "metadata": {
        "colab": {
          "base_uri": "https://localhost:8080/",
          "height": 363
        },
        "id": "TW52nz50qbOs",
        "outputId": "b16a9633-d3d8-443e-a043-449708193854"
      },
      "source": [
        "lista_demographics = df.loc[:, [\"language\", \"userLocation\", \"mobileDevice\"]]\n",
        "lista_demographics.head(10)"
      ],
      "execution_count": null,
      "outputs": [
        {
          "output_type": "execute_result",
          "data": {
            "text/html": [
              "<div>\n",
              "<style scoped>\n",
              "    .dataframe tbody tr th:only-of-type {\n",
              "        vertical-align: middle;\n",
              "    }\n",
              "\n",
              "    .dataframe tbody tr th {\n",
              "        vertical-align: top;\n",
              "    }\n",
              "\n",
              "    .dataframe thead th {\n",
              "        text-align: right;\n",
              "    }\n",
              "</style>\n",
              "<table border=\"1\" class=\"dataframe\">\n",
              "  <thead>\n",
              "    <tr style=\"text-align: right;\">\n",
              "      <th></th>\n",
              "      <th>language</th>\n",
              "      <th>userLocation</th>\n",
              "      <th>mobileDevice</th>\n",
              "    </tr>\n",
              "  </thead>\n",
              "  <tbody>\n",
              "    <tr>\n",
              "      <th>0</th>\n",
              "      <td>pt</td>\n",
              "      <td>São Carlos, SP</td>\n",
              "      <td>True</td>\n",
              "    </tr>\n",
              "    <tr>\n",
              "      <th>1</th>\n",
              "      <td>pt</td>\n",
              "      <td>Manaus, AM</td>\n",
              "      <td>True</td>\n",
              "    </tr>\n",
              "    <tr>\n",
              "      <th>2</th>\n",
              "      <td>pt</td>\n",
              "      <td>Goiânia, GO</td>\n",
              "      <td>True</td>\n",
              "    </tr>\n",
              "    <tr>\n",
              "      <th>3</th>\n",
              "      <td>pt</td>\n",
              "      <td>Aracaju, SE</td>\n",
              "      <td>False</td>\n",
              "    </tr>\n",
              "    <tr>\n",
              "      <th>4</th>\n",
              "      <td>pt</td>\n",
              "      <td>Rio de Janeiro, RJ</td>\n",
              "      <td>False</td>\n",
              "    </tr>\n",
              "    <tr>\n",
              "      <th>5</th>\n",
              "      <td>pt</td>\n",
              "      <td>None</td>\n",
              "      <td>False</td>\n",
              "    </tr>\n",
              "    <tr>\n",
              "      <th>6</th>\n",
              "      <td>pt</td>\n",
              "      <td>Brasília, DF</td>\n",
              "      <td>True</td>\n",
              "    </tr>\n",
              "    <tr>\n",
              "      <th>7</th>\n",
              "      <td>pt</td>\n",
              "      <td>Vila Velha, ES</td>\n",
              "      <td>False</td>\n",
              "    </tr>\n",
              "    <tr>\n",
              "      <th>8</th>\n",
              "      <td>pt</td>\n",
              "      <td>Teresina, PI</td>\n",
              "      <td>True</td>\n",
              "    </tr>\n",
              "    <tr>\n",
              "      <th>9</th>\n",
              "      <td>pt</td>\n",
              "      <td>Belo Horizonte, MG</td>\n",
              "      <td>False</td>\n",
              "    </tr>\n",
              "  </tbody>\n",
              "</table>\n",
              "</div>"
            ],
            "text/plain": [
              "  language        userLocation mobileDevice\n",
              "0       pt      São Carlos, SP         True\n",
              "1       pt          Manaus, AM         True\n",
              "2       pt         Goiânia, GO         True\n",
              "3       pt         Aracaju, SE        False\n",
              "4       pt  Rio de Janeiro, RJ        False\n",
              "5       pt                None        False\n",
              "6       pt        Brasília, DF         True\n",
              "7       pt      Vila Velha, ES        False\n",
              "8       pt        Teresina, PI         True\n",
              "9       pt  Belo Horizonte, MG        False"
            ]
          },
          "metadata": {
            "tags": []
          },
          "execution_count": 31
        }
      ]
    },
    {
      "cell_type": "code",
      "metadata": {
        "colab": {
          "base_uri": "https://localhost:8080/"
        },
        "id": "DD8LlbolQUM1",
        "outputId": "14cec119-54eb-4312-aac7-e188936247d7"
      },
      "source": [
        "#lista de todas as colunas\n",
        "df.columns"
      ],
      "execution_count": null,
      "outputs": [
        {
          "output_type": "execute_result",
          "data": {
            "text/plain": [
              "Index(['title', 'reviewId', 'restaurantId', 'author', 'reviewBody', 'language',\n",
              "       'mobileDevice', 'userLocation', 'publicationDate', 'visitDate',\n",
              "       'ratingValue', 'itemReviewed'],\n",
              "      dtype='object')"
            ]
          },
          "metadata": {
            "tags": []
          },
          "execution_count": 19
        }
      ]
    },
    {
      "cell_type": "code",
      "metadata": {
        "colab": {
          "base_uri": "https://localhost:8080/"
        },
        "id": "1j50C-Mf4K8P",
        "outputId": "1253dcbe-adf8-45d3-f478-3fe2ff7dba22"
      },
      "source": [
        "df['userLocation'].value_counts()"
      ],
      "execution_count": null,
      "outputs": [
        {
          "output_type": "execute_result",
          "data": {
            "text/plain": [
              "Manaus,AM    100000\n",
              "Name: userLocation, dtype: int64"
            ]
          },
          "metadata": {
            "tags": []
          },
          "execution_count": 24
        }
      ]
    },
    {
      "cell_type": "code",
      "metadata": {
        "colab": {
          "base_uri": "https://localhost:8080/"
        },
        "id": "LwI0lkHs3HVn",
        "outputId": "4558d6c7-2861-4bfe-ec74-ef13d9d31df8"
      },
      "source": [
        "df.userLocation.describe()"
      ],
      "execution_count": null,
      "outputs": [
        {
          "output_type": "execute_result",
          "data": {
            "text/plain": [
              "count        100000\n",
              "unique            1\n",
              "top       Manaus,AM\n",
              "freq         100000\n",
              "Name: userLocation, dtype: object"
            ]
          },
          "metadata": {
            "tags": []
          },
          "execution_count": 25
        }
      ]
    },
    {
      "cell_type": "code",
      "metadata": {
        "colab": {
          "base_uri": "https://localhost:8080/"
        },
        "id": "Z_zp2rJyEPZK",
        "outputId": "6de57db0-93db-41b0-c985-66f299e68789"
      },
      "source": [
        "df.iloc[0]"
      ],
      "execution_count": null,
      "outputs": [
        {
          "output_type": "execute_result",
          "data": {
            "text/plain": [
              "title                                                        Jantar \n",
              "reviewId                                                   692856288\n",
              "restaurantId                                                 2344932\n",
              "author                                             larinhavercosa222\n",
              "reviewBody         Comida maravilhosa, lugar do verdadeiro chicle...\n",
              "language                                                          pt\n",
              "mobileDevice                                                    True\n",
              "userLocation                                               Manaus,AM\n",
              "publicationDate                                           26/07/2019\n",
              "visitDate                                                    07/2019\n",
              "ratingValue                                                        5\n",
              "itemReviewed       {'name': 'Imperador dos Camarões', 'address': ...\n",
              "Name: 0, dtype: object"
            ]
          },
          "metadata": {
            "tags": []
          },
          "execution_count": 31
        }
      ]
    },
    {
      "cell_type": "markdown",
      "metadata": {
        "id": "GB9RpZ2cq9Iw"
      },
      "source": [
        "#Análise de Sentimentos"
      ]
    },
    {
      "cell_type": "markdown",
      "metadata": {
        "id": "-4jRMuKBq-_I"
      },
      "source": [
        "Exemplo de comentário"
      ]
    },
    {
      "cell_type": "code",
      "metadata": {
        "id": "zEmlgRrMpoUn"
      },
      "source": [
        "comentario = \"Conheço o restaurante em várias cidades do Brasil. O de Manaus não foge muito da qualidade e beleza. Atendimento bom, ambiente bonito. Mas a comida não surpreendeu, aliás até decepcionou. Não foi aquele sabor que estamos acostumados quando vamos a este restaurante. Pode ter sido um fato isolado, mas.\""
      ],
      "execution_count": null,
      "outputs": []
    },
    {
      "cell_type": "markdown",
      "metadata": {
        "id": "SGzzYdRhrBYq"
      },
      "source": [
        "Texto convertido para o formato TextBlob"
      ]
    },
    {
      "cell_type": "code",
      "metadata": {
        "id": "ICj1Nb2Vpyt-"
      },
      "source": [
        "comentario_blob = TextBlob(comentario)"
      ],
      "execution_count": null,
      "outputs": []
    },
    {
      "cell_type": "markdown",
      "metadata": {
        "id": "hUaLpMZ6rEh5"
      },
      "source": [
        "Comentário traduzido para Inglês (US)"
      ]
    },
    {
      "cell_type": "code",
      "metadata": {
        "id": "G3uzGbFaqeLD"
      },
      "source": [
        "comentario_blob_us = comentario_blob.translate(to='us')"
      ],
      "execution_count": null,
      "outputs": []
    },
    {
      "cell_type": "code",
      "metadata": {
        "colab": {
          "base_uri": "https://localhost:8080/"
        },
        "id": "3ZJ426-rAnEM",
        "outputId": "99ee3eb8-86df-4ec0-fb84-beea22412251"
      },
      "source": [
        "comentario_blob_us"
      ],
      "execution_count": null,
      "outputs": [
        {
          "output_type": "execute_result",
          "data": {
            "text/plain": [
              "TextBlob(\"I know the restaurant in several cities in Brazil. The one in Manaus is not far from quality and beauty. Good service, beautiful environment. But the food was not surprising, even disappointed. It was not that flavor we are used to when we go to this restaurant. It may have been an isolated event, but.\")"
            ]
          },
          "metadata": {
            "tags": []
          },
          "execution_count": 30
        }
      ]
    },
    {
      "cell_type": "markdown",
      "metadata": {
        "id": "SHii6r-7rO_M"
      },
      "source": [
        "#Cálculo da subjetividade"
      ]
    },
    {
      "cell_type": "markdown",
      "metadata": {
        "id": "zOcwg2oJrTNo"
      },
      "source": [
        "O valor da subjetividade é um número real entre [0.0, 1.0], onde 0.0 o texto é indicado como muito objetivo e 1.0 o texto é indicado como muito subjetivo."
      ]
    },
    {
      "cell_type": "code",
      "metadata": {
        "id": "SX8bHfhWp3SA",
        "colab": {
          "base_uri": "https://localhost:8080/",
          "height": 121
        },
        "outputId": "f9a5d19d-78e5-4102-bd86-2dbc907f2540"
      },
      "source": [
        "for sentence_br, sentence in zip(comentario_blob.sentences, comentario_blob_us.sentences):\n",
        "    print(sentence_br, ':', sentence.sentiment.subjectivity)"
      ],
      "execution_count": null,
      "outputs": [
        {
          "output_type": "stream",
          "text": [
            "Conheço o restaurante em várias cidades do Brasil. : 0.0\n",
            "O de Manaus não foge muito da qualidade e beleza. : 1.0\n",
            "Atendimento bom, ambiente bonito. : 0.8\n",
            "Mas a comida não surpreendeu, aliás até decepcionou. : 0.625\n",
            "Não foi aquele sabor que estamos acostumados quando vamos a este restaurante. : 0.0\n",
            "Pode ter sido um fato isolado, mas. : 0.0\n"
          ],
          "name": "stdout"
        }
      ]
    },
    {
      "cell_type": "markdown",
      "metadata": {
        "id": "YpHkeYDSr-J-"
      },
      "source": [
        "#Cálculo da polaridade"
      ]
    },
    {
      "cell_type": "markdown",
      "metadata": {
        "id": "6P_dvtOssBBj"
      },
      "source": [
        "O valor da polaridade é um número real entre os valores [-1.0, 1.0]."
      ]
    },
    {
      "cell_type": "code",
      "metadata": {
        "id": "VtsOZWS0sL74",
        "colab": {
          "base_uri": "https://localhost:8080/",
          "height": 121
        },
        "outputId": "e4cb65d9-8c0c-4bf6-fe1a-b63d90e91f8d"
      },
      "source": [
        "for sentence_br, sentence in zip(comentario_blob.sentences, comentario_blob_us.sentences):\n",
        "    print(sentence_br, ':', sentence.sentiment.polarity)"
      ],
      "execution_count": null,
      "outputs": [
        {
          "output_type": "stream",
          "text": [
            "Conheço o restaurante em várias cidades do Brasil. : 0.0\n",
            "O de Manaus não foge muito da qualidade e beleza. : -0.05\n",
            "Atendimento bom, ambiente bonito. : 0.7749999999999999\n",
            "Mas a comida não surpreendeu, aliás até decepcionou. : -0.55\n",
            "Não foi aquele sabor que estamos acostumados quando vamos a este restaurante. : 0.0\n",
            "Pode ter sido um fato isolado, mas. : 0.0\n"
          ],
          "name": "stdout"
        }
      ]
    },
    {
      "cell_type": "markdown",
      "metadata": {
        "id": "GKq3KJrpE8rh"
      },
      "source": [
        "#**Visão Temporal**"
      ]
    },
    {
      "cell_type": "markdown",
      "metadata": {
        "id": "UIRGWo08Cpf6"
      },
      "source": [
        "#**Visão Geográfica**"
      ]
    },
    {
      "cell_type": "code",
      "metadata": {
        "id": "Rwg83jyqCwcx"
      },
      "source": [
        ""
      ],
      "execution_count": null,
      "outputs": []
    }
  ]
}
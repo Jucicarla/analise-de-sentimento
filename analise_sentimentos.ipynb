{
  "nbformat": 4,
  "nbformat_minor": 0,
  "metadata": {
    "colab": {
      "name": "analise-sentimentos.ipynb",
      "provenance": [],
      "collapsed_sections": [],
      "include_colab_link": true
    },
    "kernelspec": {
      "name": "python3",
      "display_name": "Python 3"
    }
  },
  "cells": [
    {
      "cell_type": "markdown",
      "metadata": {
        "id": "view-in-github",
        "colab_type": "text"
      },
      "source": [
        "<a href=\"https://colab.research.google.com/github/Jucicarla/analise-de-sentimento/blob/main/analise_sentimentos.ipynb\" target=\"_parent\"><img src=\"https://colab.research.google.com/assets/colab-badge.svg\" alt=\"Open In Colab\"/></a>"
      ]
    },
    {
      "cell_type": "markdown",
      "metadata": {
        "id": "NTKZrjNRF2Tt"
      },
      "source": [
        "#**Análise de Sentimentos usando TextBlob: Analisar comentários postados por usuários sobre restaurantes.**\n",
        "\n",
        "\n",
        "\n"
      ]
    },
    {
      "cell_type": "markdown",
      "metadata": {
        "id": "IPGLkah7pT6C"
      },
      "source": [
        "#Instalação de pacotes"
      ]
    },
    {
      "cell_type": "code",
      "metadata": {
        "id": "n3sSrSa4pPWR",
        "colab": {
          "base_uri": "https://localhost:8080/"
        },
        "outputId": "4be9d57c-1dbc-494a-9209-df27d5247137"
      },
      "source": [
        "!python -m textblob.download_corpora"
      ],
      "execution_count": null,
      "outputs": [
        {
          "output_type": "stream",
          "text": [
            "[nltk_data] Downloading package brown to /root/nltk_data...\n",
            "[nltk_data]   Unzipping corpora/brown.zip.\n",
            "[nltk_data] Downloading package punkt to /root/nltk_data...\n",
            "[nltk_data]   Unzipping tokenizers/punkt.zip.\n",
            "[nltk_data] Downloading package wordnet to /root/nltk_data...\n",
            "[nltk_data]   Unzipping corpora/wordnet.zip.\n",
            "[nltk_data] Downloading package averaged_perceptron_tagger to\n",
            "[nltk_data]     /root/nltk_data...\n",
            "[nltk_data]   Unzipping taggers/averaged_perceptron_tagger.zip.\n",
            "[nltk_data] Downloading package conll2000 to /root/nltk_data...\n",
            "[nltk_data]   Unzipping corpora/conll2000.zip.\n",
            "[nltk_data] Downloading package movie_reviews to /root/nltk_data...\n",
            "[nltk_data]   Unzipping corpora/movie_reviews.zip.\n",
            "Finished.\n"
          ],
          "name": "stdout"
        }
      ]
    },
    {
      "cell_type": "markdown",
      "metadata": {
        "id": "L674wxxDpcWg"
      },
      "source": [
        "#Importar pacotes"
      ]
    },
    {
      "cell_type": "code",
      "metadata": {
        "id": "fHtSnenypdzJ",
        "colab": {
          "base_uri": "https://localhost:8080/"
        },
        "outputId": "6c394214-7528-4aa6-abfb-0dd8f3cde3ec"
      },
      "source": [
        "from time import sleep\n",
        "from textblob import TextBlob\n",
        "from textblob.exceptions import NotTranslated \n",
        "import nltk\n",
        "import pandas as pd\n",
        "import json\n",
        "import re\n",
        "# montar o Google Drive\n",
        "from google.colab import drive\n",
        "drive.mount('/content/drive')"
      ],
      "execution_count": 108,
      "outputs": [
        {
          "output_type": "stream",
          "text": [
            "Drive already mounted at /content/drive; to attempt to forcibly remount, call drive.mount(\"/content/drive\", force_remount=True).\n"
          ],
          "name": "stdout"
        }
      ]
    },
    {
      "cell_type": "code",
      "metadata": {
        "id": "SDVa6dGz5k6V"
      },
      "source": [
        "arquivo = '/content/drive/MyDrive/dataset-v2.dat'\n",
        "d = []\n",
        "with open(arquivo) as infile:\n",
        "  for line in infile:\n",
        "    try:\n",
        "      item = json.loads(line.strip())\n",
        "      d.append(item)\n",
        "    except:\n",
        "      None"
      ],
      "execution_count": 4,
      "outputs": []
    },
    {
      "cell_type": "code",
      "metadata": {
        "id": "fEDjgGxg5sPN"
      },
      "source": [
        "df = pd.DataFrame(d)"
      ],
      "execution_count": 5,
      "outputs": []
    },
    {
      "cell_type": "code",
      "metadata": {
        "id": "E3NRolcoIQrM",
        "outputId": "8f3c1cb9-c467-4b13-8b99-a6454606e268",
        "colab": {
          "base_uri": "https://localhost:8080/"
        }
      },
      "source": [
        "b = TextBlob(\"comida maravilhosa, lugar do verdadeiro chicle... \t\")\n",
        "b.translate(to=\"us\")"
      ],
      "execution_count": 13,
      "outputs": [
        {
          "output_type": "execute_result",
          "data": {
            "text/plain": [
              "TextBlob(\"wonderful food, a place of real chicle ...\")"
            ]
          },
          "metadata": {
            "tags": []
          },
          "execution_count": 13
        }
      ]
    },
    {
      "cell_type": "code",
      "metadata": {
        "colab": {
          "base_uri": "https://localhost:8080/",
          "height": 246
        },
        "id": "vXb0P5zfSg36",
        "outputId": "3a053c94-1d91-477f-8241-2ec1a0b78981"
      },
      "source": [
        "with open(arquivo) as file:\n",
        "    for line in file:\n",
        "        print(line)"
      ],
      "execution_count": 8,
      "outputs": [
        {
          "output_type": "error",
          "ename": "TypeError",
          "evalue": "ignored",
          "traceback": [
            "\u001b[0;31m---------------------------------------------------------------------------\u001b[0m",
            "\u001b[0;31mTypeError\u001b[0m                                 Traceback (most recent call last)",
            "\u001b[0;32m<ipython-input-8-40614c182ed2>\u001b[0m in \u001b[0;36m<module>\u001b[0;34m()\u001b[0m\n\u001b[1;32m      1\u001b[0m \u001b[0;32mwith\u001b[0m \u001b[0mopen\u001b[0m\u001b[0;34m(\u001b[0m\u001b[0marquivo\u001b[0m\u001b[0;34m)\u001b[0m \u001b[0;32mas\u001b[0m \u001b[0mfile\u001b[0m\u001b[0;34m:\u001b[0m\u001b[0;34m\u001b[0m\u001b[0;34m\u001b[0m\u001b[0m\n\u001b[1;32m      2\u001b[0m     \u001b[0;32mfor\u001b[0m \u001b[0mline\u001b[0m \u001b[0;32min\u001b[0m \u001b[0mfile\u001b[0m\u001b[0;34m:\u001b[0m\u001b[0;34m\u001b[0m\u001b[0;34m\u001b[0m\u001b[0m\n\u001b[0;32m----> 3\u001b[0;31m       \u001b[0;32mfor\u001b[0m \u001b[0mi\u001b[0m \u001b[0;32min\u001b[0m \u001b[0mrange\u001b[0m\u001b[0;34m(\u001b[0m\u001b[0mlen\u001b[0m\u001b[0;34m(\u001b[0m\u001b[0marquivo\u001b[0m\u001b[0;34m[\u001b[0m\u001b[0;34m'df.reviewBody'\u001b[0m\u001b[0;34m]\u001b[0m\u001b[0;34m)\u001b[0m\u001b[0;34m)\u001b[0m\u001b[0;34m:\u001b[0m\u001b[0;34m\u001b[0m\u001b[0;34m\u001b[0m\u001b[0m\n\u001b[0m\u001b[1;32m      4\u001b[0m         \u001b[0;31m# Translate one comment at a time\u001b[0m\u001b[0;34m\u001b[0m\u001b[0;34m\u001b[0m\u001b[0;34m\u001b[0m\u001b[0m\n\u001b[1;32m      5\u001b[0m         \u001b[0marquivo\u001b[0m\u001b[0;34m[\u001b[0m\u001b[0;34m'reviewBody'\u001b[0m\u001b[0;34m]\u001b[0m\u001b[0;34m.\u001b[0m\u001b[0miloc\u001b[0m\u001b[0;34m[\u001b[0m\u001b[0mi\u001b[0m\u001b[0;34m]\u001b[0m \u001b[0;34m=\u001b[0m \u001b[0mtranslate_comment\u001b[0m\u001b[0;34m(\u001b[0m\u001b[0marquivo\u001b[0m\u001b[0;34m[\u001b[0m\u001b[0;34m'reviewBody'\u001b[0m\u001b[0;34m]\u001b[0m\u001b[0;34m.\u001b[0m\u001b[0miloc\u001b[0m\u001b[0;34m[\u001b[0m\u001b[0mi\u001b[0m\u001b[0;34m]\u001b[0m\u001b[0;34m)\u001b[0m\u001b[0;34m\u001b[0m\u001b[0;34m\u001b[0m\u001b[0m\n",
            "\u001b[0;31mTypeError\u001b[0m: string indices must be integers"
          ]
        }
      ]
    },
    {
      "cell_type": "code",
      "metadata": {
        "colab": {
          "base_uri": "https://localhost:8080/",
          "height": 965
        },
        "id": "3IWUQ-z85zTs",
        "outputId": "58183af7-9145-4f34-d092-df6e8841982c"
      },
      "source": [
        "df"
      ],
      "execution_count": 23,
      "outputs": [
        {
          "output_type": "execute_result",
          "data": {
            "text/html": [
              "<div>\n",
              "<style scoped>\n",
              "    .dataframe tbody tr th:only-of-type {\n",
              "        vertical-align: middle;\n",
              "    }\n",
              "\n",
              "    .dataframe tbody tr th {\n",
              "        vertical-align: top;\n",
              "    }\n",
              "\n",
              "    .dataframe thead th {\n",
              "        text-align: right;\n",
              "    }\n",
              "</style>\n",
              "<table border=\"1\" class=\"dataframe\">\n",
              "  <thead>\n",
              "    <tr style=\"text-align: right;\">\n",
              "      <th></th>\n",
              "      <th>title</th>\n",
              "      <th>reviewId</th>\n",
              "      <th>restaurantId</th>\n",
              "      <th>author</th>\n",
              "      <th>reviewBody</th>\n",
              "      <th>language</th>\n",
              "      <th>mobileDevice</th>\n",
              "      <th>userLocation</th>\n",
              "      <th>publicationDate</th>\n",
              "      <th>visitDate</th>\n",
              "      <th>ratingValue</th>\n",
              "      <th>itemReviewed</th>\n",
              "    </tr>\n",
              "  </thead>\n",
              "  <tbody>\n",
              "    <tr>\n",
              "      <th>0</th>\n",
              "      <td>Jantar</td>\n",
              "      <td>692856288</td>\n",
              "      <td>2344932</td>\n",
              "      <td>larinhavercosa222</td>\n",
              "      <td>Comida maravilhosa, lugar do verdadeiro chicle...</td>\n",
              "      <td>pt</td>\n",
              "      <td>True</td>\n",
              "      <td>São Carlos, SP</td>\n",
              "      <td>26/07/2019</td>\n",
              "      <td>07/2019</td>\n",
              "      <td>5</td>\n",
              "      <td>{'name': 'Imperador dos Camarões', 'address': ...</td>\n",
              "    </tr>\n",
              "    <tr>\n",
              "      <th>1</th>\n",
              "      <td>Uma boa experiência.</td>\n",
              "      <td>229208487</td>\n",
              "      <td>3720906</td>\n",
              "      <td>Pano P</td>\n",
              "      <td>Comida boa, drinks legais e um ambiente bem ac...</td>\n",
              "      <td>pt</td>\n",
              "      <td>True</td>\n",
              "      <td>Manaus, AM</td>\n",
              "      <td>16/09/2014</td>\n",
              "      <td>None</td>\n",
              "      <td>4</td>\n",
              "      <td>{'name': 'Guacamole Natal', 'address': {'stree...</td>\n",
              "    </tr>\n",
              "    <tr>\n",
              "      <th>2</th>\n",
              "      <td>Otimo self service</td>\n",
              "      <td>679002332</td>\n",
              "      <td>2248105</td>\n",
              "      <td>Magma100</td>\n",
              "      <td>Excelente pra ir com a família! Ótima Comida, ...</td>\n",
              "      <td>pt</td>\n",
              "      <td>True</td>\n",
              "      <td>Goiânia, GO</td>\n",
              "      <td>04/06/2019</td>\n",
              "      <td>07/2018</td>\n",
              "      <td>4</td>\n",
              "      <td>{'name': 'Chica Pitanga', 'address': {'streetA...</td>\n",
              "    </tr>\n",
              "    <tr>\n",
              "      <th>3</th>\n",
              "      <td>O sorvete mais tradicional do estado</td>\n",
              "      <td>355671519</td>\n",
              "      <td>8168302</td>\n",
              "      <td>Yurie M</td>\n",
              "      <td>Tomo sorvete na Visabor faz mais de 30 anos. S...</td>\n",
              "      <td>pt</td>\n",
              "      <td>False</td>\n",
              "      <td>Aracaju, SE</td>\n",
              "      <td>15/03/2016</td>\n",
              "      <td>01/2016</td>\n",
              "      <td>5</td>\n",
              "      <td>{'name': 'Sorvetes Vi Sabor', 'address': {'str...</td>\n",
              "    </tr>\n",
              "    <tr>\n",
              "      <th>4</th>\n",
              "      <td>Melhor hamburger!</td>\n",
              "      <td>268741921</td>\n",
              "      <td>5395141</td>\n",
              "      <td>Debora_C85</td>\n",
              "      <td>O melhor hamburger que já comi! Excelente aten...</td>\n",
              "      <td>pt</td>\n",
              "      <td>False</td>\n",
              "      <td>Rio de Janeiro, RJ</td>\n",
              "      <td>28/04/2015</td>\n",
              "      <td>04/2015</td>\n",
              "      <td>5</td>\n",
              "      <td>{'name': 'Z Deli Sandwich Shop', 'address': {'...</td>\n",
              "    </tr>\n",
              "    <tr>\n",
              "      <th>...</th>\n",
              "      <td>...</td>\n",
              "      <td>...</td>\n",
              "      <td>...</td>\n",
              "      <td>...</td>\n",
              "      <td>...</td>\n",
              "      <td>...</td>\n",
              "      <td>...</td>\n",
              "      <td>...</td>\n",
              "      <td>...</td>\n",
              "      <td>...</td>\n",
              "      <td>...</td>\n",
              "      <td>...</td>\n",
              "    </tr>\n",
              "    <tr>\n",
              "      <th>99995</th>\n",
              "      <td>Nova opção no Paseo!!!</td>\n",
              "      <td>672210394</td>\n",
              "      <td>17424548</td>\n",
              "      <td>Fabiano B</td>\n",
              "      <td>Ainda não inaugurado oficialmente, está atende...</td>\n",
              "      <td>pt</td>\n",
              "      <td>True</td>\n",
              "      <td>Porto Alegre, RS</td>\n",
              "      <td>07/05/2019</td>\n",
              "      <td>05/2019</td>\n",
              "      <td>5</td>\n",
              "      <td>{'name': 'Boteco Maestro', 'address': {'street...</td>\n",
              "    </tr>\n",
              "    <tr>\n",
              "      <th>99996</th>\n",
              "      <td>Bom</td>\n",
              "      <td>380904400</td>\n",
              "      <td>2440184</td>\n",
              "      <td>Chris L</td>\n",
              "      <td>Bom atendimento, lugar bonito, comida muito go...</td>\n",
              "      <td>pt</td>\n",
              "      <td>True</td>\n",
              "      <td>Cork, Irlanda</td>\n",
              "      <td>08/06/2016</td>\n",
              "      <td>01/2016</td>\n",
              "      <td>4</td>\n",
              "      <td>{'name': 'Casa do Marquês', 'address': {'stree...</td>\n",
              "    </tr>\n",
              "    <tr>\n",
              "      <th>99997</th>\n",
              "      <td>Bom bar</td>\n",
              "      <td>186111858</td>\n",
              "      <td>2392996</td>\n",
              "      <td>Guilherme P</td>\n",
              "      <td>O Rio Scenarium é uma das baladas mais famosas...</td>\n",
              "      <td>pt</td>\n",
              "      <td>False</td>\n",
              "      <td>São Paulo, SP</td>\n",
              "      <td>27/11/2013</td>\n",
              "      <td>11/2013</td>\n",
              "      <td>4</td>\n",
              "      <td>{'name': 'Rio Scenarium', 'address': {'streetA...</td>\n",
              "    </tr>\n",
              "    <tr>\n",
              "      <th>99998</th>\n",
              "      <td>Me senti enganada...</td>\n",
              "      <td>152745909</td>\n",
              "      <td>1062290</td>\n",
              "      <td>LisianeCohem</td>\n",
              "      <td>Fui por indicação e com boa expectativa!\\n116,...</td>\n",
              "      <td>pt</td>\n",
              "      <td>True</td>\n",
              "      <td>Porto Alegre, RS</td>\n",
              "      <td>21/02/2013</td>\n",
              "      <td>None</td>\n",
              "      <td>2</td>\n",
              "      <td>{'name': 'Celeiro', 'address': {'streetAddress...</td>\n",
              "    </tr>\n",
              "    <tr>\n",
              "      <th>99999</th>\n",
              "      <td>Restaurante excelente</td>\n",
              "      <td>649755498</td>\n",
              "      <td>12433911</td>\n",
              "      <td>brunotulio</td>\n",
              "      <td>Experiência fantástica com comida deliciosa e ...</td>\n",
              "      <td>pt</td>\n",
              "      <td>True</td>\n",
              "      <td>Manaus, AM</td>\n",
              "      <td>02/02/2019</td>\n",
              "      <td>02/2019</td>\n",
              "      <td>5</td>\n",
              "      <td>{'name': 'Coco Bambu Manaus', 'address': {'str...</td>\n",
              "    </tr>\n",
              "  </tbody>\n",
              "</table>\n",
              "<p>100000 rows × 12 columns</p>\n",
              "</div>"
            ],
            "text/plain": [
              "                                      title  ...                                       itemReviewed\n",
              "0                                   Jantar   ...  {'name': 'Imperador dos Camarões', 'address': ...\n",
              "1                      Uma boa experiência.  ...  {'name': 'Guacamole Natal', 'address': {'stree...\n",
              "2                        Otimo self service  ...  {'name': 'Chica Pitanga', 'address': {'streetA...\n",
              "3      O sorvete mais tradicional do estado  ...  {'name': 'Sorvetes Vi Sabor', 'address': {'str...\n",
              "4                         Melhor hamburger!  ...  {'name': 'Z Deli Sandwich Shop', 'address': {'...\n",
              "...                                     ...  ...                                                ...\n",
              "99995                Nova opção no Paseo!!!  ...  {'name': 'Boteco Maestro', 'address': {'street...\n",
              "99996                                   Bom  ...  {'name': 'Casa do Marquês', 'address': {'stree...\n",
              "99997                               Bom bar  ...  {'name': 'Rio Scenarium', 'address': {'streetA...\n",
              "99998                  Me senti enganada...  ...  {'name': 'Celeiro', 'address': {'streetAddress...\n",
              "99999                 Restaurante excelente  ...  {'name': 'Coco Bambu Manaus', 'address': {'str...\n",
              "\n",
              "[100000 rows x 12 columns]"
            ]
          },
          "metadata": {
            "tags": []
          },
          "execution_count": 23
        }
      ]
    },
    {
      "cell_type": "code",
      "metadata": {
        "id": "d5jXLwKhYHrv"
      },
      "source": [
        "df.drop_duplicates(['reviewBody'], inplace=True)"
      ],
      "execution_count": 28,
      "outputs": []
    },
    {
      "cell_type": "code",
      "metadata": {
        "id": "k7j29rbca988",
        "outputId": "5e91fb4c-853d-417d-c9fb-ac8da831f0ae",
        "colab": {
          "base_uri": "https://localhost:8080/"
        }
      },
      "source": [
        "\n",
        "\n"
      ],
      "execution_count": 30,
      "outputs": [
        {
          "output_type": "execute_result",
          "data": {
            "text/plain": [
              "99996"
            ]
          },
          "metadata": {
            "tags": []
          },
          "execution_count": 30
        }
      ]
    },
    {
      "cell_type": "markdown",
      "metadata": {
        "id": "9tyoUXhJgct4"
      },
      "source": [
        "#**Pré-Processamento: Limpeza e organização**"
      ]
    },
    {
      "cell_type": "code",
      "metadata": {
        "id": "WytojP6lbKM0"
      },
      "source": [
        "#remover linhas Duplicadas\n",
        "nova = df.drop_duplicates(['reviewBody'], inplace=True)"
      ],
      "execution_count": 60,
      "outputs": []
    },
    {
      "cell_type": "code",
      "metadata": {
        "id": "4gEspcYObOws",
        "outputId": "b4420685-4bbf-463c-dcae-26237f3f3c9d",
        "colab": {
          "base_uri": "https://localhost:8080/"
        }
      },
      "source": [
        "#retorna o numero de linhas que ficaram\n",
        "df.reviewBody.count()"
      ],
      "execution_count": 61,
      "outputs": [
        {
          "output_type": "execute_result",
          "data": {
            "text/plain": [
              "99996"
            ]
          },
          "metadata": {
            "tags": []
          },
          "execution_count": 61
        }
      ]
    },
    {
      "cell_type": "code",
      "metadata": {
        "id": "nhnzBaj3c1nd",
        "outputId": "707ac28d-1a34-4464-f486-4e81836dc38d",
        "colab": {
          "base_uri": "https://localhost:8080/"
        }
      },
      "source": [
        "nltk.download('stopwords')\n",
        "nltk.download('rslp')"
      ],
      "execution_count": 45,
      "outputs": [
        {
          "output_type": "stream",
          "text": [
            "[nltk_data] Downloading package stopwords to /root/nltk_data...\n",
            "[nltk_data]   Package stopwords is already up-to-date!\n",
            "[nltk_data] Downloading package rslp to /root/nltk_data...\n",
            "[nltk_data]   Package rslp is already up-to-date!\n"
          ],
          "name": "stdout"
        },
        {
          "output_type": "execute_result",
          "data": {
            "text/plain": [
              "True"
            ]
          },
          "metadata": {
            "tags": []
          },
          "execution_count": 45
        }
      ]
    },
    {
      "cell_type": "code",
      "metadata": {
        "id": "MT2tXS6ScxPD"
      },
      "source": [
        "###remove as stopwords(a, de,o..)\n",
        "###def RemoveStopWords(instancia):\n",
        "    stopwords = set(nltk.corpus.stopwords.words('portuguese'))\n",
        "    palavras = [i for i in instancia.split() if not i in stopwords]\n",
        "    return (\" \".join(palavras))###"
      ],
      "execution_count": 55,
      "outputs": []
    },
    {
      "cell_type": "code",
      "metadata": {
        "id": "kkrYrhLYdoXP"
      },
      "source": [
        "# remove links, pontos, virgulas,ponto e virgulas do texto\n",
        "def Limpeza_dados(instancia):\n",
        "  #re = expressao regular\n",
        "    instancia = re.sub(r\"http\\S+\", \"\", instancia).lower().replace('.','').replace(';','').replace('-','').replace(':','').replace(')','')\n",
        "    return (instancia)"
      ],
      "execution_count": 103,
      "outputs": []
    },
    {
      "cell_type": "code",
      "metadata": {
        "id": "5Uodwvg7hpEH"
      },
      "source": [
        "comentarios = df['reviewBody']"
      ],
      "execution_count": 62,
      "outputs": []
    },
    {
      "cell_type": "code",
      "metadata": {
        "id": "i7QNcpjlhx6t",
        "outputId": "3c3299fd-09bf-4a41-e0d5-f4cc6f781f05",
        "colab": {
          "base_uri": "https://localhost:8080/"
        }
      },
      "source": [
        "comentarios[:50]"
      ],
      "execution_count": 64,
      "outputs": [
        {
          "output_type": "execute_result",
          "data": {
            "text/plain": [
              "0     Comida maravilhosa, lugar do verdadeiro chicle...\n",
              "1     Comida boa, drinks legais e um ambiente bem ac...\n",
              "2     Excelente pra ir com a família! Ótima Comida, ...\n",
              "3     Tomo sorvete na Visabor faz mais de 30 anos. S...\n",
              "4     O melhor hamburger que já comi! Excelente aten...\n",
              "5     O restaurante é novo, super acolhedor e charmo...\n",
              "6     Fomos num sábado, ambiente elegante, equipe ge...\n",
              "7     Comida ótima e com bom atediamento e com muita...\n",
              "8     Ambiente agradável, preço totalmente acessível...\n",
              "9     A pizzaria é a mais tradicional de Belo Horizo...\n",
              "10    Estive com minha família essa tarde pela prime...\n",
              "11    Fui ao La Bocca depois de ler tantos comentári...\n",
              "12    Excelente restaurante!\\nA diversidade do self ...\n",
              "13    gostei tanto da comida como do atendimento, o ...\n",
              "14    Um dos melhores restaurantes com buffet vegeta...\n",
              "15    Tudo é bom! O chef Juarez é ótimo e um amor. Ó...\n",
              "16    A Família DR LASER esteve no sábado para um al...\n",
              "17    Indescritível, eu nunca havia comido tapioca e...\n",
              "18    Tinha visto as críticas e realmente esperava m...\n",
              "19    Esse restaurante está situado na avenida Conde...\n",
              "20    Localizado um pouco distante do centro, é um l...\n",
              "21    Almocei com amigos neste local e realmente ten...\n",
              "22    O lugar é bem bonito e possui cervejas de outr...\n",
              "23    O bar estava lotado, até aí sem problemas, afi...\n",
              "24    O loopfood é um dos melhores sanduíches de Cur...\n",
              "25    Bom atendimento preço justo comida muito boa m...\n",
              "26    O casa de Tereza eh pra mim o melhor em Salvad...\n",
              "27    A apresentação do restaurante é uma atração a ...\n",
              "28    A pior coisa que pode acontecer em um restaura...\n",
              "29    Restaurante vegetariano de preço único com dir...\n",
              "30    Lugar com comida típica e especializado em car...\n",
              "31    Almoçei  em  janeiro  deste  ano  !  Prato  pr...\n",
              "32    É um bom restaurante que, para ótimo, faltam m...\n",
              "33    Já conhecia a casa, como sempre Comida maravil...\n",
              "34    O cardápio vem sendo reformado há anos, dando ...\n",
              "35    A localização do restaurante já vale a pena......\n",
              "36    O lugar é delicioso para uma cerveja em um dia...\n",
              "37    Um restaurante perfeito para quem busca comida...\n",
              "38    Local agradável e relativamente despojado. Ser...\n",
              "39    Um restaurante com sabores e variedades sem ig...\n",
              "40    Hambúrguer maravilhoso com ingredientes de pri...\n",
              "41    O saúde da Nilo Peçanha já foi melhor e mais l...\n",
              "42    Lanches rapidos e acessiveis, uma boa pedida p...\n",
              "43    Local muito agradável , comida excelente , ate...\n",
              "44    Comida muito boa e com preço justo. Não deixem...\n",
              "45    Muito bom atendimento. Serviço padrão. Comida ...\n",
              "46    A Cantina di Napoli é uma excelente opção de c...\n",
              "47    Ambiente agradável, com música boa e atendimen...\n",
              "48    Espaços e com 3 ambientes diferentes, as bebid...\n",
              "49    O salão é grande e as mesas acomodam grupos. N...\n",
              "Name: reviewBody, dtype: object"
            ]
          },
          "metadata": {
            "tags": []
          },
          "execution_count": 64
        }
      ]
    },
    {
      "cell_type": "code",
      "metadata": {
        "id": "A6vWYaz7jSJJ"
      },
      "source": [
        "def translate(phrase, from_lang, to_lang='en'):\n",
        "    blob = TextBlob(comentarios)\n",
        "\n",
        "    try:\n",
        "        translation = blob.translate(from_lang=from_lang, to=to_lang)\n",
        "        return translation.string\n",
        "    except:\n",
        "        return \"Sorry, no translation!\""
      ],
      "execution_count": 81,
      "outputs": []
    },
    {
      "cell_type": "code",
      "metadata": {
        "id": "YBM8wMh1baC0",
        "outputId": "012c80af-e829-422c-826c-15cfef521d72",
        "colab": {
          "base_uri": "https://localhost:8080/",
          "height": 380
        }
      },
      "source": [
        "df['Tradução'] = df['reviewBody'].apply(lambda x: TextBlob(x).translate(from_lang=\"pt\", to='en')).astype('str')\n",
        "#df['Traduccion'] = df['text'].apply(lambda x: TextBlob(x).translate(from_lang=\"pt\", to='en')).astype('str')"
      ],
      "execution_count": 110,
      "outputs": [
        {
          "output_type": "error",
          "ename": "HTTPError",
          "evalue": "ignored",
          "traceback": [
            "\u001b[0;31m---------------------------------------------------------------------------\u001b[0m",
            "\u001b[0;31mHTTPError\u001b[0m                                 Traceback (most recent call last)",
            "\u001b[0;32m<ipython-input-110-476cf811e6b7>\u001b[0m in \u001b[0;36m<module>\u001b[0;34m()\u001b[0m\n\u001b[0;32m----> 1\u001b[0;31m \u001b[0mdf\u001b[0m\u001b[0;34m[\u001b[0m\u001b[0;34m'Tradução'\u001b[0m\u001b[0;34m]\u001b[0m \u001b[0;34m=\u001b[0m \u001b[0mdf\u001b[0m\u001b[0;34m[\u001b[0m\u001b[0;34m'reviewBody'\u001b[0m\u001b[0;34m]\u001b[0m\u001b[0;34m.\u001b[0m\u001b[0mapply\u001b[0m\u001b[0;34m(\u001b[0m\u001b[0;32mlambda\u001b[0m \u001b[0mx\u001b[0m\u001b[0;34m:\u001b[0m \u001b[0mTextBlob\u001b[0m\u001b[0;34m(\u001b[0m\u001b[0mx\u001b[0m\u001b[0;34m)\u001b[0m\u001b[0;34m.\u001b[0m\u001b[0mtranslate\u001b[0m\u001b[0;34m(\u001b[0m\u001b[0mfrom_lang\u001b[0m\u001b[0;34m=\u001b[0m\u001b[0;34m\"pt\"\u001b[0m\u001b[0;34m,\u001b[0m \u001b[0mto\u001b[0m\u001b[0;34m=\u001b[0m\u001b[0;34m'en'\u001b[0m\u001b[0;34m)\u001b[0m\u001b[0;34m)\u001b[0m\u001b[0;34m.\u001b[0m\u001b[0mastype\u001b[0m\u001b[0;34m(\u001b[0m\u001b[0;34m'str'\u001b[0m\u001b[0;34m)\u001b[0m\u001b[0;34m\u001b[0m\u001b[0;34m\u001b[0m\u001b[0m\n\u001b[0m\u001b[1;32m      2\u001b[0m \u001b[0;31m#df['Traduccion'] = df['text'].apply(lambda x: TextBlob(x).translate(from_lang=\"pt\", to='en')).astype('str')\u001b[0m\u001b[0;34m\u001b[0m\u001b[0;34m\u001b[0m\u001b[0;34m\u001b[0m\u001b[0m\n",
            "\u001b[0;32m/usr/local/lib/python3.6/dist-packages/pandas/core/series.py\u001b[0m in \u001b[0;36mapply\u001b[0;34m(self, func, convert_dtype, args, **kwds)\u001b[0m\n\u001b[1;32m   4210\u001b[0m             \u001b[0;32melse\u001b[0m\u001b[0;34m:\u001b[0m\u001b[0;34m\u001b[0m\u001b[0;34m\u001b[0m\u001b[0m\n\u001b[1;32m   4211\u001b[0m                 \u001b[0mvalues\u001b[0m \u001b[0;34m=\u001b[0m \u001b[0mself\u001b[0m\u001b[0;34m.\u001b[0m\u001b[0mastype\u001b[0m\u001b[0;34m(\u001b[0m\u001b[0mobject\u001b[0m\u001b[0;34m)\u001b[0m\u001b[0;34m.\u001b[0m\u001b[0m_values\u001b[0m\u001b[0;34m\u001b[0m\u001b[0;34m\u001b[0m\u001b[0m\n\u001b[0;32m-> 4212\u001b[0;31m                 \u001b[0mmapped\u001b[0m \u001b[0;34m=\u001b[0m \u001b[0mlib\u001b[0m\u001b[0;34m.\u001b[0m\u001b[0mmap_infer\u001b[0m\u001b[0;34m(\u001b[0m\u001b[0mvalues\u001b[0m\u001b[0;34m,\u001b[0m \u001b[0mf\u001b[0m\u001b[0;34m,\u001b[0m \u001b[0mconvert\u001b[0m\u001b[0;34m=\u001b[0m\u001b[0mconvert_dtype\u001b[0m\u001b[0;34m)\u001b[0m\u001b[0;34m\u001b[0m\u001b[0;34m\u001b[0m\u001b[0m\n\u001b[0m\u001b[1;32m   4213\u001b[0m \u001b[0;34m\u001b[0m\u001b[0m\n\u001b[1;32m   4214\u001b[0m         \u001b[0;32mif\u001b[0m \u001b[0mlen\u001b[0m\u001b[0;34m(\u001b[0m\u001b[0mmapped\u001b[0m\u001b[0;34m)\u001b[0m \u001b[0;32mand\u001b[0m \u001b[0misinstance\u001b[0m\u001b[0;34m(\u001b[0m\u001b[0mmapped\u001b[0m\u001b[0;34m[\u001b[0m\u001b[0;36m0\u001b[0m\u001b[0;34m]\u001b[0m\u001b[0;34m,\u001b[0m \u001b[0mSeries\u001b[0m\u001b[0;34m)\u001b[0m\u001b[0;34m:\u001b[0m\u001b[0;34m\u001b[0m\u001b[0;34m\u001b[0m\u001b[0m\n",
            "\u001b[0;32mpandas/_libs/lib.pyx\u001b[0m in \u001b[0;36mpandas._libs.lib.map_infer\u001b[0;34m()\u001b[0m\n",
            "\u001b[0;32m<ipython-input-110-476cf811e6b7>\u001b[0m in \u001b[0;36m<lambda>\u001b[0;34m(x)\u001b[0m\n\u001b[0;32m----> 1\u001b[0;31m \u001b[0mdf\u001b[0m\u001b[0;34m[\u001b[0m\u001b[0;34m'Tradução'\u001b[0m\u001b[0;34m]\u001b[0m \u001b[0;34m=\u001b[0m \u001b[0mdf\u001b[0m\u001b[0;34m[\u001b[0m\u001b[0;34m'reviewBody'\u001b[0m\u001b[0;34m]\u001b[0m\u001b[0;34m.\u001b[0m\u001b[0mapply\u001b[0m\u001b[0;34m(\u001b[0m\u001b[0;32mlambda\u001b[0m \u001b[0mx\u001b[0m\u001b[0;34m:\u001b[0m \u001b[0mTextBlob\u001b[0m\u001b[0;34m(\u001b[0m\u001b[0mx\u001b[0m\u001b[0;34m)\u001b[0m\u001b[0;34m.\u001b[0m\u001b[0mtranslate\u001b[0m\u001b[0;34m(\u001b[0m\u001b[0mfrom_lang\u001b[0m\u001b[0;34m=\u001b[0m\u001b[0;34m\"pt\"\u001b[0m\u001b[0;34m,\u001b[0m \u001b[0mto\u001b[0m\u001b[0;34m=\u001b[0m\u001b[0;34m'en'\u001b[0m\u001b[0;34m)\u001b[0m\u001b[0;34m)\u001b[0m\u001b[0;34m.\u001b[0m\u001b[0mastype\u001b[0m\u001b[0;34m(\u001b[0m\u001b[0;34m'str'\u001b[0m\u001b[0;34m)\u001b[0m\u001b[0;34m\u001b[0m\u001b[0;34m\u001b[0m\u001b[0m\n\u001b[0m\u001b[1;32m      2\u001b[0m \u001b[0;31m#df['Traduccion'] = df['text'].apply(lambda x: TextBlob(x).translate(from_lang=\"pt\", to='en')).astype('str')\u001b[0m\u001b[0;34m\u001b[0m\u001b[0;34m\u001b[0m\u001b[0;34m\u001b[0m\u001b[0m\n",
            "\u001b[0;32m/usr/local/lib/python3.6/dist-packages/textblob/blob.py\u001b[0m in \u001b[0;36mtranslate\u001b[0;34m(self, from_lang, to)\u001b[0m\n\u001b[1;32m    545\u001b[0m         \"\"\"\n\u001b[1;32m    546\u001b[0m         return self.__class__(self.translator.translate(self.raw,\n\u001b[0;32m--> 547\u001b[0;31m                               from_lang=from_lang, to_lang=to))\n\u001b[0m\u001b[1;32m    548\u001b[0m \u001b[0;34m\u001b[0m\u001b[0m\n\u001b[1;32m    549\u001b[0m     \u001b[0;32mdef\u001b[0m \u001b[0mdetect_language\u001b[0m\u001b[0;34m(\u001b[0m\u001b[0mself\u001b[0m\u001b[0;34m)\u001b[0m\u001b[0;34m:\u001b[0m\u001b[0;34m\u001b[0m\u001b[0;34m\u001b[0m\u001b[0m\n",
            "\u001b[0;32m/usr/local/lib/python3.6/dist-packages/textblob/translate.py\u001b[0m in \u001b[0;36mtranslate\u001b[0;34m(self, source, from_lang, to_lang, host, type_)\u001b[0m\n\u001b[1;32m     52\u001b[0m             \u001b[0mtk\u001b[0m\u001b[0;34m=\u001b[0m\u001b[0m_calculate_tk\u001b[0m\u001b[0;34m(\u001b[0m\u001b[0msource\u001b[0m\u001b[0;34m)\u001b[0m\u001b[0;34m,\u001b[0m\u001b[0;34m\u001b[0m\u001b[0;34m\u001b[0m\u001b[0m\n\u001b[1;32m     53\u001b[0m         )\n\u001b[0;32m---> 54\u001b[0;31m         \u001b[0mresponse\u001b[0m \u001b[0;34m=\u001b[0m \u001b[0mself\u001b[0m\u001b[0;34m.\u001b[0m\u001b[0m_request\u001b[0m\u001b[0;34m(\u001b[0m\u001b[0murl\u001b[0m\u001b[0;34m,\u001b[0m \u001b[0mhost\u001b[0m\u001b[0;34m=\u001b[0m\u001b[0mhost\u001b[0m\u001b[0;34m,\u001b[0m \u001b[0mtype_\u001b[0m\u001b[0;34m=\u001b[0m\u001b[0mtype_\u001b[0m\u001b[0;34m,\u001b[0m \u001b[0mdata\u001b[0m\u001b[0;34m=\u001b[0m\u001b[0mdata\u001b[0m\u001b[0;34m)\u001b[0m\u001b[0;34m\u001b[0m\u001b[0;34m\u001b[0m\u001b[0m\n\u001b[0m\u001b[1;32m     55\u001b[0m         \u001b[0mresult\u001b[0m \u001b[0;34m=\u001b[0m \u001b[0mjson\u001b[0m\u001b[0;34m.\u001b[0m\u001b[0mloads\u001b[0m\u001b[0;34m(\u001b[0m\u001b[0mresponse\u001b[0m\u001b[0;34m)\u001b[0m\u001b[0;34m\u001b[0m\u001b[0;34m\u001b[0m\u001b[0m\n\u001b[1;32m     56\u001b[0m         \u001b[0;32mif\u001b[0m \u001b[0misinstance\u001b[0m\u001b[0;34m(\u001b[0m\u001b[0mresult\u001b[0m\u001b[0;34m,\u001b[0m \u001b[0mlist\u001b[0m\u001b[0;34m)\u001b[0m\u001b[0;34m:\u001b[0m\u001b[0;34m\u001b[0m\u001b[0;34m\u001b[0m\u001b[0m\n",
            "\u001b[0;32m/usr/local/lib/python3.6/dist-packages/textblob/translate.py\u001b[0m in \u001b[0;36m_request\u001b[0;34m(self, url, host, type_, data)\u001b[0m\n\u001b[1;32m     90\u001b[0m         \u001b[0;32mif\u001b[0m \u001b[0mhost\u001b[0m \u001b[0;32mor\u001b[0m \u001b[0mtype_\u001b[0m\u001b[0;34m:\u001b[0m\u001b[0;34m\u001b[0m\u001b[0;34m\u001b[0m\u001b[0m\n\u001b[1;32m     91\u001b[0m             \u001b[0mreq\u001b[0m\u001b[0;34m.\u001b[0m\u001b[0mset_proxy\u001b[0m\u001b[0;34m(\u001b[0m\u001b[0mhost\u001b[0m\u001b[0;34m=\u001b[0m\u001b[0mhost\u001b[0m\u001b[0;34m,\u001b[0m \u001b[0mtype\u001b[0m\u001b[0;34m=\u001b[0m\u001b[0mtype_\u001b[0m\u001b[0;34m)\u001b[0m\u001b[0;34m\u001b[0m\u001b[0;34m\u001b[0m\u001b[0m\n\u001b[0;32m---> 92\u001b[0;31m         \u001b[0mresp\u001b[0m \u001b[0;34m=\u001b[0m \u001b[0mrequest\u001b[0m\u001b[0;34m.\u001b[0m\u001b[0murlopen\u001b[0m\u001b[0;34m(\u001b[0m\u001b[0mreq\u001b[0m\u001b[0;34m)\u001b[0m\u001b[0;34m\u001b[0m\u001b[0;34m\u001b[0m\u001b[0m\n\u001b[0m\u001b[1;32m     93\u001b[0m         \u001b[0mcontent\u001b[0m \u001b[0;34m=\u001b[0m \u001b[0mresp\u001b[0m\u001b[0;34m.\u001b[0m\u001b[0mread\u001b[0m\u001b[0;34m(\u001b[0m\u001b[0;34m)\u001b[0m\u001b[0;34m\u001b[0m\u001b[0;34m\u001b[0m\u001b[0m\n\u001b[1;32m     94\u001b[0m         \u001b[0;32mreturn\u001b[0m \u001b[0mcontent\u001b[0m\u001b[0;34m.\u001b[0m\u001b[0mdecode\u001b[0m\u001b[0;34m(\u001b[0m\u001b[0;34m'utf-8'\u001b[0m\u001b[0;34m)\u001b[0m\u001b[0;34m\u001b[0m\u001b[0;34m\u001b[0m\u001b[0m\n",
            "\u001b[0;32m/usr/lib/python3.6/urllib/request.py\u001b[0m in \u001b[0;36murlopen\u001b[0;34m(url, data, timeout, cafile, capath, cadefault, context)\u001b[0m\n\u001b[1;32m    221\u001b[0m     \u001b[0;32melse\u001b[0m\u001b[0;34m:\u001b[0m\u001b[0;34m\u001b[0m\u001b[0;34m\u001b[0m\u001b[0m\n\u001b[1;32m    222\u001b[0m         \u001b[0mopener\u001b[0m \u001b[0;34m=\u001b[0m \u001b[0m_opener\u001b[0m\u001b[0;34m\u001b[0m\u001b[0;34m\u001b[0m\u001b[0m\n\u001b[0;32m--> 223\u001b[0;31m     \u001b[0;32mreturn\u001b[0m \u001b[0mopener\u001b[0m\u001b[0;34m.\u001b[0m\u001b[0mopen\u001b[0m\u001b[0;34m(\u001b[0m\u001b[0murl\u001b[0m\u001b[0;34m,\u001b[0m \u001b[0mdata\u001b[0m\u001b[0;34m,\u001b[0m \u001b[0mtimeout\u001b[0m\u001b[0;34m)\u001b[0m\u001b[0;34m\u001b[0m\u001b[0;34m\u001b[0m\u001b[0m\n\u001b[0m\u001b[1;32m    224\u001b[0m \u001b[0;34m\u001b[0m\u001b[0m\n\u001b[1;32m    225\u001b[0m \u001b[0;32mdef\u001b[0m \u001b[0minstall_opener\u001b[0m\u001b[0;34m(\u001b[0m\u001b[0mopener\u001b[0m\u001b[0;34m)\u001b[0m\u001b[0;34m:\u001b[0m\u001b[0;34m\u001b[0m\u001b[0;34m\u001b[0m\u001b[0m\n",
            "\u001b[0;32m/usr/lib/python3.6/urllib/request.py\u001b[0m in \u001b[0;36mopen\u001b[0;34m(self, fullurl, data, timeout)\u001b[0m\n\u001b[1;32m    530\u001b[0m         \u001b[0;32mfor\u001b[0m \u001b[0mprocessor\u001b[0m \u001b[0;32min\u001b[0m \u001b[0mself\u001b[0m\u001b[0;34m.\u001b[0m\u001b[0mprocess_response\u001b[0m\u001b[0;34m.\u001b[0m\u001b[0mget\u001b[0m\u001b[0;34m(\u001b[0m\u001b[0mprotocol\u001b[0m\u001b[0;34m,\u001b[0m \u001b[0;34m[\u001b[0m\u001b[0;34m]\u001b[0m\u001b[0;34m)\u001b[0m\u001b[0;34m:\u001b[0m\u001b[0;34m\u001b[0m\u001b[0;34m\u001b[0m\u001b[0m\n\u001b[1;32m    531\u001b[0m             \u001b[0mmeth\u001b[0m \u001b[0;34m=\u001b[0m \u001b[0mgetattr\u001b[0m\u001b[0;34m(\u001b[0m\u001b[0mprocessor\u001b[0m\u001b[0;34m,\u001b[0m \u001b[0mmeth_name\u001b[0m\u001b[0;34m)\u001b[0m\u001b[0;34m\u001b[0m\u001b[0;34m\u001b[0m\u001b[0m\n\u001b[0;32m--> 532\u001b[0;31m             \u001b[0mresponse\u001b[0m \u001b[0;34m=\u001b[0m \u001b[0mmeth\u001b[0m\u001b[0;34m(\u001b[0m\u001b[0mreq\u001b[0m\u001b[0;34m,\u001b[0m \u001b[0mresponse\u001b[0m\u001b[0;34m)\u001b[0m\u001b[0;34m\u001b[0m\u001b[0;34m\u001b[0m\u001b[0m\n\u001b[0m\u001b[1;32m    533\u001b[0m \u001b[0;34m\u001b[0m\u001b[0m\n\u001b[1;32m    534\u001b[0m         \u001b[0;32mreturn\u001b[0m \u001b[0mresponse\u001b[0m\u001b[0;34m\u001b[0m\u001b[0;34m\u001b[0m\u001b[0m\n",
            "\u001b[0;32m/usr/lib/python3.6/urllib/request.py\u001b[0m in \u001b[0;36mhttp_response\u001b[0;34m(self, request, response)\u001b[0m\n\u001b[1;32m    640\u001b[0m         \u001b[0;32mif\u001b[0m \u001b[0;32mnot\u001b[0m \u001b[0;34m(\u001b[0m\u001b[0;36m200\u001b[0m \u001b[0;34m<=\u001b[0m \u001b[0mcode\u001b[0m \u001b[0;34m<\u001b[0m \u001b[0;36m300\u001b[0m\u001b[0;34m)\u001b[0m\u001b[0;34m:\u001b[0m\u001b[0;34m\u001b[0m\u001b[0;34m\u001b[0m\u001b[0m\n\u001b[1;32m    641\u001b[0m             response = self.parent.error(\n\u001b[0;32m--> 642\u001b[0;31m                 'http', request, response, code, msg, hdrs)\n\u001b[0m\u001b[1;32m    643\u001b[0m \u001b[0;34m\u001b[0m\u001b[0m\n\u001b[1;32m    644\u001b[0m         \u001b[0;32mreturn\u001b[0m \u001b[0mresponse\u001b[0m\u001b[0;34m\u001b[0m\u001b[0;34m\u001b[0m\u001b[0m\n",
            "\u001b[0;32m/usr/lib/python3.6/urllib/request.py\u001b[0m in \u001b[0;36merror\u001b[0;34m(self, proto, *args)\u001b[0m\n\u001b[1;32m    562\u001b[0m             \u001b[0mhttp_err\u001b[0m \u001b[0;34m=\u001b[0m \u001b[0;36m0\u001b[0m\u001b[0;34m\u001b[0m\u001b[0;34m\u001b[0m\u001b[0m\n\u001b[1;32m    563\u001b[0m         \u001b[0margs\u001b[0m \u001b[0;34m=\u001b[0m \u001b[0;34m(\u001b[0m\u001b[0mdict\u001b[0m\u001b[0;34m,\u001b[0m \u001b[0mproto\u001b[0m\u001b[0;34m,\u001b[0m \u001b[0mmeth_name\u001b[0m\u001b[0;34m)\u001b[0m \u001b[0;34m+\u001b[0m \u001b[0margs\u001b[0m\u001b[0;34m\u001b[0m\u001b[0;34m\u001b[0m\u001b[0m\n\u001b[0;32m--> 564\u001b[0;31m         \u001b[0mresult\u001b[0m \u001b[0;34m=\u001b[0m \u001b[0mself\u001b[0m\u001b[0;34m.\u001b[0m\u001b[0m_call_chain\u001b[0m\u001b[0;34m(\u001b[0m\u001b[0;34m*\u001b[0m\u001b[0margs\u001b[0m\u001b[0;34m)\u001b[0m\u001b[0;34m\u001b[0m\u001b[0;34m\u001b[0m\u001b[0m\n\u001b[0m\u001b[1;32m    565\u001b[0m         \u001b[0;32mif\u001b[0m \u001b[0mresult\u001b[0m\u001b[0;34m:\u001b[0m\u001b[0;34m\u001b[0m\u001b[0;34m\u001b[0m\u001b[0m\n\u001b[1;32m    566\u001b[0m             \u001b[0;32mreturn\u001b[0m \u001b[0mresult\u001b[0m\u001b[0;34m\u001b[0m\u001b[0;34m\u001b[0m\u001b[0m\n",
            "\u001b[0;32m/usr/lib/python3.6/urllib/request.py\u001b[0m in \u001b[0;36m_call_chain\u001b[0;34m(self, chain, kind, meth_name, *args)\u001b[0m\n\u001b[1;32m    502\u001b[0m         \u001b[0;32mfor\u001b[0m \u001b[0mhandler\u001b[0m \u001b[0;32min\u001b[0m \u001b[0mhandlers\u001b[0m\u001b[0;34m:\u001b[0m\u001b[0;34m\u001b[0m\u001b[0;34m\u001b[0m\u001b[0m\n\u001b[1;32m    503\u001b[0m             \u001b[0mfunc\u001b[0m \u001b[0;34m=\u001b[0m \u001b[0mgetattr\u001b[0m\u001b[0;34m(\u001b[0m\u001b[0mhandler\u001b[0m\u001b[0;34m,\u001b[0m \u001b[0mmeth_name\u001b[0m\u001b[0;34m)\u001b[0m\u001b[0;34m\u001b[0m\u001b[0;34m\u001b[0m\u001b[0m\n\u001b[0;32m--> 504\u001b[0;31m             \u001b[0mresult\u001b[0m \u001b[0;34m=\u001b[0m \u001b[0mfunc\u001b[0m\u001b[0;34m(\u001b[0m\u001b[0;34m*\u001b[0m\u001b[0margs\u001b[0m\u001b[0;34m)\u001b[0m\u001b[0;34m\u001b[0m\u001b[0;34m\u001b[0m\u001b[0m\n\u001b[0m\u001b[1;32m    505\u001b[0m             \u001b[0;32mif\u001b[0m \u001b[0mresult\u001b[0m \u001b[0;32mis\u001b[0m \u001b[0;32mnot\u001b[0m \u001b[0;32mNone\u001b[0m\u001b[0;34m:\u001b[0m\u001b[0;34m\u001b[0m\u001b[0;34m\u001b[0m\u001b[0m\n\u001b[1;32m    506\u001b[0m                 \u001b[0;32mreturn\u001b[0m \u001b[0mresult\u001b[0m\u001b[0;34m\u001b[0m\u001b[0;34m\u001b[0m\u001b[0m\n",
            "\u001b[0;32m/usr/lib/python3.6/urllib/request.py\u001b[0m in \u001b[0;36mhttp_error_302\u001b[0;34m(self, req, fp, code, msg, headers)\u001b[0m\n\u001b[1;32m    754\u001b[0m         \u001b[0mfp\u001b[0m\u001b[0;34m.\u001b[0m\u001b[0mclose\u001b[0m\u001b[0;34m(\u001b[0m\u001b[0;34m)\u001b[0m\u001b[0;34m\u001b[0m\u001b[0;34m\u001b[0m\u001b[0m\n\u001b[1;32m    755\u001b[0m \u001b[0;34m\u001b[0m\u001b[0m\n\u001b[0;32m--> 756\u001b[0;31m         \u001b[0;32mreturn\u001b[0m \u001b[0mself\u001b[0m\u001b[0;34m.\u001b[0m\u001b[0mparent\u001b[0m\u001b[0;34m.\u001b[0m\u001b[0mopen\u001b[0m\u001b[0;34m(\u001b[0m\u001b[0mnew\u001b[0m\u001b[0;34m,\u001b[0m \u001b[0mtimeout\u001b[0m\u001b[0;34m=\u001b[0m\u001b[0mreq\u001b[0m\u001b[0;34m.\u001b[0m\u001b[0mtimeout\u001b[0m\u001b[0;34m)\u001b[0m\u001b[0;34m\u001b[0m\u001b[0;34m\u001b[0m\u001b[0m\n\u001b[0m\u001b[1;32m    757\u001b[0m \u001b[0;34m\u001b[0m\u001b[0m\n\u001b[1;32m    758\u001b[0m     \u001b[0mhttp_error_301\u001b[0m \u001b[0;34m=\u001b[0m \u001b[0mhttp_error_303\u001b[0m \u001b[0;34m=\u001b[0m \u001b[0mhttp_error_307\u001b[0m \u001b[0;34m=\u001b[0m \u001b[0mhttp_error_302\u001b[0m\u001b[0;34m\u001b[0m\u001b[0;34m\u001b[0m\u001b[0m\n",
            "\u001b[0;32m/usr/lib/python3.6/urllib/request.py\u001b[0m in \u001b[0;36mopen\u001b[0;34m(self, fullurl, data, timeout)\u001b[0m\n\u001b[1;32m    530\u001b[0m         \u001b[0;32mfor\u001b[0m \u001b[0mprocessor\u001b[0m \u001b[0;32min\u001b[0m \u001b[0mself\u001b[0m\u001b[0;34m.\u001b[0m\u001b[0mprocess_response\u001b[0m\u001b[0;34m.\u001b[0m\u001b[0mget\u001b[0m\u001b[0;34m(\u001b[0m\u001b[0mprotocol\u001b[0m\u001b[0;34m,\u001b[0m \u001b[0;34m[\u001b[0m\u001b[0;34m]\u001b[0m\u001b[0;34m)\u001b[0m\u001b[0;34m:\u001b[0m\u001b[0;34m\u001b[0m\u001b[0;34m\u001b[0m\u001b[0m\n\u001b[1;32m    531\u001b[0m             \u001b[0mmeth\u001b[0m \u001b[0;34m=\u001b[0m \u001b[0mgetattr\u001b[0m\u001b[0;34m(\u001b[0m\u001b[0mprocessor\u001b[0m\u001b[0;34m,\u001b[0m \u001b[0mmeth_name\u001b[0m\u001b[0;34m)\u001b[0m\u001b[0;34m\u001b[0m\u001b[0;34m\u001b[0m\u001b[0m\n\u001b[0;32m--> 532\u001b[0;31m             \u001b[0mresponse\u001b[0m \u001b[0;34m=\u001b[0m \u001b[0mmeth\u001b[0m\u001b[0;34m(\u001b[0m\u001b[0mreq\u001b[0m\u001b[0;34m,\u001b[0m \u001b[0mresponse\u001b[0m\u001b[0;34m)\u001b[0m\u001b[0;34m\u001b[0m\u001b[0;34m\u001b[0m\u001b[0m\n\u001b[0m\u001b[1;32m    533\u001b[0m \u001b[0;34m\u001b[0m\u001b[0m\n\u001b[1;32m    534\u001b[0m         \u001b[0;32mreturn\u001b[0m \u001b[0mresponse\u001b[0m\u001b[0;34m\u001b[0m\u001b[0;34m\u001b[0m\u001b[0m\n",
            "\u001b[0;32m/usr/lib/python3.6/urllib/request.py\u001b[0m in \u001b[0;36mhttp_response\u001b[0;34m(self, request, response)\u001b[0m\n\u001b[1;32m    640\u001b[0m         \u001b[0;32mif\u001b[0m \u001b[0;32mnot\u001b[0m \u001b[0;34m(\u001b[0m\u001b[0;36m200\u001b[0m \u001b[0;34m<=\u001b[0m \u001b[0mcode\u001b[0m \u001b[0;34m<\u001b[0m \u001b[0;36m300\u001b[0m\u001b[0;34m)\u001b[0m\u001b[0;34m:\u001b[0m\u001b[0;34m\u001b[0m\u001b[0;34m\u001b[0m\u001b[0m\n\u001b[1;32m    641\u001b[0m             response = self.parent.error(\n\u001b[0;32m--> 642\u001b[0;31m                 'http', request, response, code, msg, hdrs)\n\u001b[0m\u001b[1;32m    643\u001b[0m \u001b[0;34m\u001b[0m\u001b[0m\n\u001b[1;32m    644\u001b[0m         \u001b[0;32mreturn\u001b[0m \u001b[0mresponse\u001b[0m\u001b[0;34m\u001b[0m\u001b[0;34m\u001b[0m\u001b[0m\n",
            "\u001b[0;32m/usr/lib/python3.6/urllib/request.py\u001b[0m in \u001b[0;36merror\u001b[0;34m(self, proto, *args)\u001b[0m\n\u001b[1;32m    568\u001b[0m         \u001b[0;32mif\u001b[0m \u001b[0mhttp_err\u001b[0m\u001b[0;34m:\u001b[0m\u001b[0;34m\u001b[0m\u001b[0;34m\u001b[0m\u001b[0m\n\u001b[1;32m    569\u001b[0m             \u001b[0margs\u001b[0m \u001b[0;34m=\u001b[0m \u001b[0;34m(\u001b[0m\u001b[0mdict\u001b[0m\u001b[0;34m,\u001b[0m \u001b[0;34m'default'\u001b[0m\u001b[0;34m,\u001b[0m \u001b[0;34m'http_error_default'\u001b[0m\u001b[0;34m)\u001b[0m \u001b[0;34m+\u001b[0m \u001b[0morig_args\u001b[0m\u001b[0;34m\u001b[0m\u001b[0;34m\u001b[0m\u001b[0m\n\u001b[0;32m--> 570\u001b[0;31m             \u001b[0;32mreturn\u001b[0m \u001b[0mself\u001b[0m\u001b[0;34m.\u001b[0m\u001b[0m_call_chain\u001b[0m\u001b[0;34m(\u001b[0m\u001b[0;34m*\u001b[0m\u001b[0margs\u001b[0m\u001b[0;34m)\u001b[0m\u001b[0;34m\u001b[0m\u001b[0;34m\u001b[0m\u001b[0m\n\u001b[0m\u001b[1;32m    571\u001b[0m \u001b[0;34m\u001b[0m\u001b[0m\n\u001b[1;32m    572\u001b[0m \u001b[0;31m# XXX probably also want an abstract factory that knows when it makes\u001b[0m\u001b[0;34m\u001b[0m\u001b[0;34m\u001b[0m\u001b[0;34m\u001b[0m\u001b[0m\n",
            "\u001b[0;32m/usr/lib/python3.6/urllib/request.py\u001b[0m in \u001b[0;36m_call_chain\u001b[0;34m(self, chain, kind, meth_name, *args)\u001b[0m\n\u001b[1;32m    502\u001b[0m         \u001b[0;32mfor\u001b[0m \u001b[0mhandler\u001b[0m \u001b[0;32min\u001b[0m \u001b[0mhandlers\u001b[0m\u001b[0;34m:\u001b[0m\u001b[0;34m\u001b[0m\u001b[0;34m\u001b[0m\u001b[0m\n\u001b[1;32m    503\u001b[0m             \u001b[0mfunc\u001b[0m \u001b[0;34m=\u001b[0m \u001b[0mgetattr\u001b[0m\u001b[0;34m(\u001b[0m\u001b[0mhandler\u001b[0m\u001b[0;34m,\u001b[0m \u001b[0mmeth_name\u001b[0m\u001b[0;34m)\u001b[0m\u001b[0;34m\u001b[0m\u001b[0;34m\u001b[0m\u001b[0m\n\u001b[0;32m--> 504\u001b[0;31m             \u001b[0mresult\u001b[0m \u001b[0;34m=\u001b[0m \u001b[0mfunc\u001b[0m\u001b[0;34m(\u001b[0m\u001b[0;34m*\u001b[0m\u001b[0margs\u001b[0m\u001b[0;34m)\u001b[0m\u001b[0;34m\u001b[0m\u001b[0;34m\u001b[0m\u001b[0m\n\u001b[0m\u001b[1;32m    505\u001b[0m             \u001b[0;32mif\u001b[0m \u001b[0mresult\u001b[0m \u001b[0;32mis\u001b[0m \u001b[0;32mnot\u001b[0m \u001b[0;32mNone\u001b[0m\u001b[0;34m:\u001b[0m\u001b[0;34m\u001b[0m\u001b[0;34m\u001b[0m\u001b[0m\n\u001b[1;32m    506\u001b[0m                 \u001b[0;32mreturn\u001b[0m \u001b[0mresult\u001b[0m\u001b[0;34m\u001b[0m\u001b[0;34m\u001b[0m\u001b[0m\n",
            "\u001b[0;32m/usr/lib/python3.6/urllib/request.py\u001b[0m in \u001b[0;36mhttp_error_default\u001b[0;34m(self, req, fp, code, msg, hdrs)\u001b[0m\n\u001b[1;32m    648\u001b[0m \u001b[0;32mclass\u001b[0m \u001b[0mHTTPDefaultErrorHandler\u001b[0m\u001b[0;34m(\u001b[0m\u001b[0mBaseHandler\u001b[0m\u001b[0;34m)\u001b[0m\u001b[0;34m:\u001b[0m\u001b[0;34m\u001b[0m\u001b[0;34m\u001b[0m\u001b[0m\n\u001b[1;32m    649\u001b[0m     \u001b[0;32mdef\u001b[0m \u001b[0mhttp_error_default\u001b[0m\u001b[0;34m(\u001b[0m\u001b[0mself\u001b[0m\u001b[0;34m,\u001b[0m \u001b[0mreq\u001b[0m\u001b[0;34m,\u001b[0m \u001b[0mfp\u001b[0m\u001b[0;34m,\u001b[0m \u001b[0mcode\u001b[0m\u001b[0;34m,\u001b[0m \u001b[0mmsg\u001b[0m\u001b[0;34m,\u001b[0m \u001b[0mhdrs\u001b[0m\u001b[0;34m)\u001b[0m\u001b[0;34m:\u001b[0m\u001b[0;34m\u001b[0m\u001b[0;34m\u001b[0m\u001b[0m\n\u001b[0;32m--> 650\u001b[0;31m         \u001b[0;32mraise\u001b[0m \u001b[0mHTTPError\u001b[0m\u001b[0;34m(\u001b[0m\u001b[0mreq\u001b[0m\u001b[0;34m.\u001b[0m\u001b[0mfull_url\u001b[0m\u001b[0;34m,\u001b[0m \u001b[0mcode\u001b[0m\u001b[0;34m,\u001b[0m \u001b[0mmsg\u001b[0m\u001b[0;34m,\u001b[0m \u001b[0mhdrs\u001b[0m\u001b[0;34m,\u001b[0m \u001b[0mfp\u001b[0m\u001b[0;34m)\u001b[0m\u001b[0;34m\u001b[0m\u001b[0;34m\u001b[0m\u001b[0m\n\u001b[0m\u001b[1;32m    651\u001b[0m \u001b[0;34m\u001b[0m\u001b[0m\n\u001b[1;32m    652\u001b[0m \u001b[0;32mclass\u001b[0m \u001b[0mHTTPRedirectHandler\u001b[0m\u001b[0;34m(\u001b[0m\u001b[0mBaseHandler\u001b[0m\u001b[0;34m)\u001b[0m\u001b[0;34m:\u001b[0m\u001b[0;34m\u001b[0m\u001b[0;34m\u001b[0m\u001b[0m\n",
            "\u001b[0;31mHTTPError\u001b[0m: HTTP Error 429: Too Many Requests"
          ]
        }
      ]
    },
    {
      "cell_type": "code",
      "metadata": {
        "id": "hNJqkQMZ4fKD",
        "outputId": "6cad0a0a-7c4e-48ee-a6c7-7fd43ecc7ce5",
        "colab": {
          "base_uri": "https://localhost:8080/",
          "height": 246
        }
      },
      "source": [
        "#def translate_comment(self, from_lang=\"auto\", to=\"en\"):\n",
        "def translate_comment(self, from_lang=\"pt\", to=\"en\"):\n",
        "    try:\n",
        "        # Try to translate the string version of the comment\n",
        "        return TextBlob(str(comentarios)).translate(to='en')\n",
        "    except NotTranslated:\n",
        "        # If the output is the same as the input just return the TextBlob version of the input\n",
        "        return TextBlob(str(comentarios))\n",
        "\n",
        "for i in range(len(df['reviewBody'])):\n",
        "    # Translate one comment at a time\n",
        "    comentarios[i].iloc[i] = translate_comment(comentarios[i].iloc[i])\n",
        "\n",
        "    # Sleep for a quarter of second\n",
        "    sleep(0.25)"
      ],
      "execution_count": 92,
      "outputs": [
        {
          "output_type": "error",
          "ename": "TypeError",
          "evalue": "ignored",
          "traceback": [
            "\u001b[0;31m---------------------------------------------------------------------------\u001b[0m",
            "\u001b[0;31mTypeError\u001b[0m                                 Traceback (most recent call last)",
            "\u001b[0;32m<ipython-input-92-1026c3fed67e>\u001b[0m in \u001b[0;36m<module>\u001b[0;34m()\u001b[0m\n\u001b[1;32m     10\u001b[0m \u001b[0;32mfor\u001b[0m \u001b[0mi\u001b[0m \u001b[0;32min\u001b[0m \u001b[0mrange\u001b[0m\u001b[0;34m(\u001b[0m\u001b[0mlen\u001b[0m\u001b[0;34m(\u001b[0m\u001b[0mdf\u001b[0m\u001b[0;34m[\u001b[0m\u001b[0;34m'reviewBody'\u001b[0m\u001b[0;34m]\u001b[0m\u001b[0;34m)\u001b[0m\u001b[0;34m)\u001b[0m\u001b[0;34m:\u001b[0m\u001b[0;34m\u001b[0m\u001b[0;34m\u001b[0m\u001b[0m\n\u001b[1;32m     11\u001b[0m     \u001b[0;31m# Translate one comment at a time\u001b[0m\u001b[0;34m\u001b[0m\u001b[0;34m\u001b[0m\u001b[0;34m\u001b[0m\u001b[0m\n\u001b[0;32m---> 12\u001b[0;31m     \u001b[0mcomentarios\u001b[0m\u001b[0;34m[\u001b[0m\u001b[0mi\u001b[0m\u001b[0;34m]\u001b[0m\u001b[0;34m.\u001b[0m\u001b[0miloc\u001b[0m\u001b[0;34m[\u001b[0m\u001b[0mi\u001b[0m\u001b[0;34m]\u001b[0m \u001b[0;34m=\u001b[0m \u001b[0mtranslate_comment\u001b[0m\u001b[0;34m(\u001b[0m\u001b[0mcomentarios\u001b[0m\u001b[0;34m[\u001b[0m\u001b[0mi\u001b[0m\u001b[0;34m]\u001b[0m\u001b[0;34m.\u001b[0m\u001b[0miloc\u001b[0m\u001b[0;34m[\u001b[0m\u001b[0mi\u001b[0m\u001b[0;34m]\u001b[0m\u001b[0;34m)\u001b[0m\u001b[0;34m\u001b[0m\u001b[0;34m\u001b[0m\u001b[0m\n\u001b[0m\u001b[1;32m     13\u001b[0m \u001b[0;34m\u001b[0m\u001b[0m\n\u001b[1;32m     14\u001b[0m     \u001b[0;31m# Sleep for a quarter of second\u001b[0m\u001b[0;34m\u001b[0m\u001b[0;34m\u001b[0m\u001b[0;34m\u001b[0m\u001b[0m\n",
            "\u001b[0;31mTypeError\u001b[0m: 'type' object is not subscriptable"
          ]
        }
      ]
    },
    {
      "cell_type": "code",
      "metadata": {
        "id": "2-0vin8B3Btj"
      },
      "source": [
        ""
      ],
      "execution_count": null,
      "outputs": []
    },
    {
      "cell_type": "code",
      "metadata": {
        "colab": {
          "base_uri": "https://localhost:8080/"
        },
        "id": "H-iQx-pN1TM1",
        "outputId": "46a0c14e-c182-4c8b-88d4-ec3f75cc8b75"
      },
      "source": [
        "df.ratingValue"
      ],
      "execution_count": null,
      "outputs": [
        {
          "output_type": "execute_result",
          "data": {
            "text/plain": [
              "0        5\n",
              "1        4\n",
              "2        4\n",
              "3        5\n",
              "4        5\n",
              "        ..\n",
              "99995    5\n",
              "99996    4\n",
              "99997    4\n",
              "99998    2\n",
              "99999    5\n",
              "Name: ratingValue, Length: 100000, dtype: object"
            ]
          },
          "metadata": {
            "tags": []
          },
          "execution_count": 16
        }
      ]
    },
    {
      "cell_type": "markdown",
      "metadata": {
        "id": "vFf4JHGb7i5E"
      },
      "source": [
        "#**1 - Visão Geral dos DADOS**\n",
        "\n"
      ]
    },
    {
      "cell_type": "markdown",
      "metadata": {
        "id": "QNJcWY6uz9JP"
      },
      "source": [
        "##**Histograma**\n",
        "## Qual a distribuição das estrelas dos participantes da pesquisa?\n",
        "## A maioria dos participantes deram conceitos na  faixa entre 3 a 5 estrelas, sendo 5 a mais frequente."
      ]
    },
    {
      "cell_type": "code",
      "metadata": {
        "colab": {
          "base_uri": "https://localhost:8080/",
          "height": 296
        },
        "id": "nvw-2o4kyOqj",
        "outputId": "d3371888-d2c9-4b21-ddfe-707aa3b025b0"
      },
      "source": [
        "import numpy as np\n",
        "import matplotlib as mat\n",
        "import matplotlib.pyplot as plt\n",
        "df.ratingValue.hist(bins = 5)\n",
        "plt.xlabel(\"Nível de Avaliação\")\n",
        "plt.ylabel(\"Número de Avaliações\")\n",
        "plt.title(\"Distribuição do Valor da Avaliação - Estrelas\")\n",
        "plt.show()"
      ],
      "execution_count": null,
      "outputs": [
        {
          "output_type": "display_data",
          "data": {
            "image/png": "[encoded data removed]",
            "text/plain": [
              "<Figure size 432x288 with 1 Axes>"
            ]
          },
          "metadata": {
            "tags": [],
            "needs_background": "light"
          }
        }
      ]
    },
    {
      "cell_type": "markdown",
      "metadata": {
        "id": "HUpFhn01x0Y-"
      },
      "source": [
        "##**Informações Sobre de onde saiu os comentários:**\n"
      ]
    },
    {
      "cell_type": "code",
      "metadata": {
        "colab": {
          "base_uri": "https://localhost:8080/",
          "height": 363
        },
        "id": "TW52nz50qbOs",
        "outputId": "b16a9633-d3d8-443e-a043-449708193854"
      },
      "source": [
        "lista_demographics = df.loc[:, [\"language\", \"userLocation\", \"mobileDevice\"]]\n",
        "lista_demographics.head(10)"
      ],
      "execution_count": null,
      "outputs": [
        {
          "output_type": "execute_result",
          "data": {
            "text/html": [
              "<div>\n",
              "<style scoped>\n",
              "    .dataframe tbody tr th:only-of-type {\n",
              "        vertical-align: middle;\n",
              "    }\n",
              "\n",
              "    .dataframe tbody tr th {\n",
              "        vertical-align: top;\n",
              "    }\n",
              "\n",
              "    .dataframe thead th {\n",
              "        text-align: right;\n",
              "    }\n",
              "</style>\n",
              "<table border=\"1\" class=\"dataframe\">\n",
              "  <thead>\n",
              "    <tr style=\"text-align: right;\">\n",
              "      <th></th>\n",
              "      <th>language</th>\n",
              "      <th>userLocation</th>\n",
              "      <th>mobileDevice</th>\n",
              "    </tr>\n",
              "  </thead>\n",
              "  <tbody>\n",
              "    <tr>\n",
              "      <th>0</th>\n",
              "      <td>pt</td>\n",
              "      <td>São Carlos, SP</td>\n",
              "      <td>True</td>\n",
              "    </tr>\n",
              "    <tr>\n",
              "      <th>1</th>\n",
              "      <td>pt</td>\n",
              "      <td>Manaus, AM</td>\n",
              "      <td>True</td>\n",
              "    </tr>\n",
              "    <tr>\n",
              "      <th>2</th>\n",
              "      <td>pt</td>\n",
              "      <td>Goiânia, GO</td>\n",
              "      <td>True</td>\n",
              "    </tr>\n",
              "    <tr>\n",
              "      <th>3</th>\n",
              "      <td>pt</td>\n",
              "      <td>Aracaju, SE</td>\n",
              "      <td>False</td>\n",
              "    </tr>\n",
              "    <tr>\n",
              "      <th>4</th>\n",
              "      <td>pt</td>\n",
              "      <td>Rio de Janeiro, RJ</td>\n",
              "      <td>False</td>\n",
              "    </tr>\n",
              "    <tr>\n",
              "      <th>5</th>\n",
              "      <td>pt</td>\n",
              "      <td>None</td>\n",
              "      <td>False</td>\n",
              "    </tr>\n",
              "    <tr>\n",
              "      <th>6</th>\n",
              "      <td>pt</td>\n",
              "      <td>Brasília, DF</td>\n",
              "      <td>True</td>\n",
              "    </tr>\n",
              "    <tr>\n",
              "      <th>7</th>\n",
              "      <td>pt</td>\n",
              "      <td>Vila Velha, ES</td>\n",
              "      <td>False</td>\n",
              "    </tr>\n",
              "    <tr>\n",
              "      <th>8</th>\n",
              "      <td>pt</td>\n",
              "      <td>Teresina, PI</td>\n",
              "      <td>True</td>\n",
              "    </tr>\n",
              "    <tr>\n",
              "      <th>9</th>\n",
              "      <td>pt</td>\n",
              "      <td>Belo Horizonte, MG</td>\n",
              "      <td>False</td>\n",
              "    </tr>\n",
              "  </tbody>\n",
              "</table>\n",
              "</div>"
            ],
            "text/plain": [
              "  language        userLocation mobileDevice\n",
              "0       pt      São Carlos, SP         True\n",
              "1       pt          Manaus, AM         True\n",
              "2       pt         Goiânia, GO         True\n",
              "3       pt         Aracaju, SE        False\n",
              "4       pt  Rio de Janeiro, RJ        False\n",
              "5       pt                None        False\n",
              "6       pt        Brasília, DF         True\n",
              "7       pt      Vila Velha, ES        False\n",
              "8       pt        Teresina, PI         True\n",
              "9       pt  Belo Horizonte, MG        False"
            ]
          },
          "metadata": {
            "tags": []
          },
          "execution_count": 31
        }
      ]
    },
    {
      "cell_type": "code",
      "metadata": {
        "colab": {
          "base_uri": "https://localhost:8080/"
        },
        "id": "DD8LlbolQUM1",
        "outputId": "14cec119-54eb-4312-aac7-e188936247d7"
      },
      "source": [
        "#lista de todas as colunas\n",
        "df.columns"
      ],
      "execution_count": null,
      "outputs": [
        {
          "output_type": "execute_result",
          "data": {
            "text/plain": [
              "Index(['title', 'reviewId', 'restaurantId', 'author', 'reviewBody', 'language',\n",
              "       'mobileDevice', 'userLocation', 'publicationDate', 'visitDate',\n",
              "       'ratingValue', 'itemReviewed'],\n",
              "      dtype='object')"
            ]
          },
          "metadata": {
            "tags": []
          },
          "execution_count": 19
        }
      ]
    },
    {
      "cell_type": "code",
      "metadata": {
        "colab": {
          "base_uri": "https://localhost:8080/"
        },
        "id": "1j50C-Mf4K8P",
        "outputId": "1253dcbe-adf8-45d3-f478-3fe2ff7dba22"
      },
      "source": [
        "df['userLocation'].value_counts()"
      ],
      "execution_count": null,
      "outputs": [
        {
          "output_type": "execute_result",
          "data": {
            "text/plain": [
              "Manaus,AM    100000\n",
              "Name: userLocation, dtype: int64"
            ]
          },
          "metadata": {
            "tags": []
          },
          "execution_count": 24
        }
      ]
    },
    {
      "cell_type": "code",
      "metadata": {
        "colab": {
          "base_uri": "https://localhost:8080/"
        },
        "id": "LwI0lkHs3HVn",
        "outputId": "4558d6c7-2861-4bfe-ec74-ef13d9d31df8"
      },
      "source": [
        "df.userLocation.describe()"
      ],
      "execution_count": null,
      "outputs": [
        {
          "output_type": "execute_result",
          "data": {
            "text/plain": [
              "count        100000\n",
              "unique            1\n",
              "top       Manaus,AM\n",
              "freq         100000\n",
              "Name: userLocation, dtype: object"
            ]
          },
          "metadata": {
            "tags": []
          },
          "execution_count": 25
        }
      ]
    },
    {
      "cell_type": "code",
      "metadata": {
        "colab": {
          "base_uri": "https://localhost:8080/"
        },
        "id": "Z_zp2rJyEPZK",
        "outputId": "6de57db0-93db-41b0-c985-66f299e68789"
      },
      "source": [
        "df.iloc[0]"
      ],
      "execution_count": null,
      "outputs": [
        {
          "output_type": "execute_result",
          "data": {
            "text/plain": [
              "title                                                        Jantar \n",
              "reviewId                                                   692856288\n",
              "restaurantId                                                 2344932\n",
              "author                                             larinhavercosa222\n",
              "reviewBody         Comida maravilhosa, lugar do verdadeiro chicle...\n",
              "language                                                          pt\n",
              "mobileDevice                                                    True\n",
              "userLocation                                               Manaus,AM\n",
              "publicationDate                                           26/07/2019\n",
              "visitDate                                                    07/2019\n",
              "ratingValue                                                        5\n",
              "itemReviewed       {'name': 'Imperador dos Camarões', 'address': ...\n",
              "Name: 0, dtype: object"
            ]
          },
          "metadata": {
            "tags": []
          },
          "execution_count": 31
        }
      ]
    },
    {
      "cell_type": "code",
      "metadata": {
        "id": "V4UExi8gGnuP"
      },
      "source": [
        "comentario = df.reviewBody"
      ],
      "execution_count": null,
      "outputs": []
    },
    {
      "cell_type": "code",
      "metadata": {
        "colab": {
          "base_uri": "https://localhost:8080/"
        },
        "id": "m-xyYquwHI51",
        "outputId": "171a844f-463f-4e3a-8bbb-267516d12031"
      },
      "source": [
        "comentario"
      ],
      "execution_count": null,
      "outputs": [
        {
          "output_type": "execute_result",
          "data": {
            "text/plain": [
              "0        Comida maravilhosa, lugar do verdadeiro chicle...\n",
              "1        Comida boa, drinks legais e um ambiente bem ac...\n",
              "2        Excelente pra ir com a família! Ótima Comida, ...\n",
              "3        Tomo sorvete na Visabor faz mais de 30 anos. S...\n",
              "4        O melhor hamburger que já comi! Excelente aten...\n",
              "                               ...                        \n",
              "99995    Ainda não inaugurado oficialmente, está atende...\n",
              "99996    Bom atendimento, lugar bonito, comida muito go...\n",
              "99997    O Rio Scenarium é uma das baladas mais famosas...\n",
              "99998    Fui por indicação e com boa expectativa!\\n116,...\n",
              "99999    Experiência fantástica com comida deliciosa e ...\n",
              "Name: reviewBody, Length: 100000, dtype: object"
            ]
          },
          "metadata": {
            "tags": []
          },
          "execution_count": 9
        }
      ]
    },
    {
      "cell_type": "code",
      "metadata": {
        "id": "pib_TRh2GPdP"
      },
      "source": [
        ""
      ],
      "execution_count": null,
      "outputs": []
    },
    {
      "cell_type": "code",
      "metadata": {
        "id": "BZHR7j1pH5ln"
      },
      "source": [
        "comentario"
      ],
      "execution_count": null,
      "outputs": []
    },
    {
      "cell_type": "code",
      "metadata": {
        "colab": {
          "base_uri": "https://localhost:8080/"
        },
        "id": "ntAOrRDwDte4",
        "outputId": "9649a081-fd0d-434e-8169-128519486b83"
      },
      "source": [
        "df.reviewBody"
      ],
      "execution_count": null,
      "outputs": [
        {
          "output_type": "execute_result",
          "data": {
            "text/plain": [
              "0        Comida maravilhosa, lugar do verdadeiro chicle...\n",
              "1        Comida boa, drinks legais e um ambiente bem ac...\n",
              "2        Excelente pra ir com a família! Ótima Comida, ...\n",
              "3        Tomo sorvete na Visabor faz mais de 30 anos. S...\n",
              "4        O melhor hamburger que já comi! Excelente aten...\n",
              "                               ...                        \n",
              "99995    Ainda não inaugurado oficialmente, está atende...\n",
              "99996    Bom atendimento, lugar bonito, comida muito go...\n",
              "99997    O Rio Scenarium é uma das baladas mais famosas...\n",
              "99998    Fui por indicação e com boa expectativa!\\n116,...\n",
              "99999    Experiência fantástica com comida deliciosa e ...\n",
              "Name: reviewBody, Length: 100000, dtype: object"
            ]
          },
          "metadata": {
            "tags": []
          },
          "execution_count": 10
        }
      ]
    },
    {
      "cell_type": "markdown",
      "metadata": {
        "id": "GB9RpZ2cq9Iw"
      },
      "source": [
        "#Análise de Sentimentos"
      ]
    },
    {
      "cell_type": "code",
      "metadata": {
        "id": "dIjGAqs_8nDC",
        "outputId": "40b9001a-c624-4810-f55a-5bacd38f3ad5",
        "colab": {
          "base_uri": "https://localhost:8080/",
          "height": 246
        }
      },
      "source": [
        ""
      ],
      "execution_count": 12,
      "outputs": [
        {
          "output_type": "error",
          "ename": "AttributeError",
          "evalue": "ignored",
          "traceback": [
            "\u001b[0;31m---------------------------------------------------------------------------\u001b[0m",
            "\u001b[0;31mAttributeError\u001b[0m                            Traceback (most recent call last)",
            "\u001b[0;32m<ipython-input-12-c7bc12bc0fb0>\u001b[0m in \u001b[0;36m<module>\u001b[0;34m()\u001b[0m\n\u001b[1;32m      9\u001b[0m \u001b[0;32mfor\u001b[0m \u001b[0mi\u001b[0m \u001b[0;32min\u001b[0m \u001b[0mrange\u001b[0m\u001b[0;34m(\u001b[0m\u001b[0mlen\u001b[0m\u001b[0;34m(\u001b[0m\u001b[0md\u001b[0m\u001b[0;34m)\u001b[0m\u001b[0;34m)\u001b[0m\u001b[0;34m:\u001b[0m\u001b[0;34m\u001b[0m\u001b[0;34m\u001b[0m\u001b[0m\n\u001b[1;32m     10\u001b[0m     \u001b[0;31m# Translate one comment at a time\u001b[0m\u001b[0;34m\u001b[0m\u001b[0;34m\u001b[0m\u001b[0;34m\u001b[0m\u001b[0m\n\u001b[0;32m---> 11\u001b[0;31m     \u001b[0md\u001b[0m\u001b[0;34m[\u001b[0m\u001b[0mi\u001b[0m\u001b[0;34m]\u001b[0m\u001b[0;34m.\u001b[0m\u001b[0miloc\u001b[0m\u001b[0;34m[\u001b[0m\u001b[0mi\u001b[0m\u001b[0;34m]\u001b[0m \u001b[0;34m=\u001b[0m \u001b[0mtranslate_comment\u001b[0m\u001b[0;34m(\u001b[0m\u001b[0md\u001b[0m\u001b[0;34m[\u001b[0m\u001b[0mi\u001b[0m\u001b[0;34m]\u001b[0m\u001b[0;34m.\u001b[0m\u001b[0miloc\u001b[0m\u001b[0;34m[\u001b[0m\u001b[0mi\u001b[0m\u001b[0;34m]\u001b[0m\u001b[0;34m)\u001b[0m\u001b[0;34m\u001b[0m\u001b[0;34m\u001b[0m\u001b[0m\n\u001b[0m\u001b[1;32m     12\u001b[0m \u001b[0;34m\u001b[0m\u001b[0m\n\u001b[1;32m     13\u001b[0m     \u001b[0;31m# Sleep for a quarter of second\u001b[0m\u001b[0;34m\u001b[0m\u001b[0;34m\u001b[0m\u001b[0;34m\u001b[0m\u001b[0m\n",
            "\u001b[0;31mAttributeError\u001b[0m: 'dict' object has no attribute 'iloc'"
          ]
        }
      ]
    },
    {
      "cell_type": "markdown",
      "metadata": {
        "id": "-4jRMuKBq-_I"
      },
      "source": [
        "Exemplo de comentário"
      ]
    },
    {
      "cell_type": "code",
      "metadata": {
        "id": "zEmlgRrMpoUn"
      },
      "source": [
        "comentario = \"Conheço o restaurante em várias cidades do Brasil. O de Manaus não foge muito da qualidade e beleza. Atendimento bom, ambiente bonito. Mas a comida não surpreendeu, aliás até decepcionou. Não foi aquele sabor que estamos acostumados quando vamos a este restaurante. Pode ter sido um fato isolado, mas.\""
      ],
      "execution_count": null,
      "outputs": []
    },
    {
      "cell_type": "markdown",
      "metadata": {
        "id": "SGzzYdRhrBYq"
      },
      "source": [
        "Texto convertido para o formato TextBlob"
      ]
    },
    {
      "cell_type": "code",
      "metadata": {
        "id": "ICj1Nb2Vpyt-"
      },
      "source": [
        "comentario_blob = TextBlob(comentario)"
      ],
      "execution_count": null,
      "outputs": []
    },
    {
      "cell_type": "markdown",
      "metadata": {
        "id": "hUaLpMZ6rEh5"
      },
      "source": [
        "Comentário traduzido para Inglês (US)"
      ]
    },
    {
      "cell_type": "code",
      "metadata": {
        "id": "G3uzGbFaqeLD"
      },
      "source": [
        "comentario_blob_us = comentario_blob.translate(to='us')"
      ],
      "execution_count": null,
      "outputs": []
    },
    {
      "cell_type": "code",
      "metadata": {
        "colab": {
          "base_uri": "https://localhost:8080/"
        },
        "id": "3ZJ426-rAnEM",
        "outputId": "99ee3eb8-86df-4ec0-fb84-beea22412251"
      },
      "source": [
        "comentario_blob_us"
      ],
      "execution_count": null,
      "outputs": [
        {
          "output_type": "execute_result",
          "data": {
            "text/plain": [
              "TextBlob(\"I know the restaurant in several cities in Brazil. The one in Manaus is not far from quality and beauty. Good service, beautiful environment. But the food was not surprising, even disappointed. It was not that flavor we are used to when we go to this restaurant. It may have been an isolated event, but.\")"
            ]
          },
          "metadata": {
            "tags": []
          },
          "execution_count": 30
        }
      ]
    },
    {
      "cell_type": "markdown",
      "metadata": {
        "id": "SHii6r-7rO_M"
      },
      "source": [
        "#Cálculo da subjetividade"
      ]
    },
    {
      "cell_type": "markdown",
      "metadata": {
        "id": "zOcwg2oJrTNo"
      },
      "source": [
        "O valor da subjetividade é um número real entre [0.0, 1.0], onde 0.0 o texto é indicado como muito objetivo e 1.0 o texto é indicado como muito subjetivo."
      ]
    },
    {
      "cell_type": "code",
      "metadata": {
        "id": "SX8bHfhWp3SA",
        "colab": {
          "base_uri": "https://localhost:8080/",
          "height": 121
        },
        "outputId": "f9a5d19d-78e5-4102-bd86-2dbc907f2540"
      },
      "source": [
        "for sentence_br, sentence in zip(comentario_blob.sentences, comentario_blob_us.sentences):\n",
        "    print(sentence_br, ':', sentence.sentiment.subjectivity)"
      ],
      "execution_count": null,
      "outputs": [
        {
          "output_type": "stream",
          "text": [
            "Conheço o restaurante em várias cidades do Brasil. : 0.0\n",
            "O de Manaus não foge muito da qualidade e beleza. : 1.0\n",
            "Atendimento bom, ambiente bonito. : 0.8\n",
            "Mas a comida não surpreendeu, aliás até decepcionou. : 0.625\n",
            "Não foi aquele sabor que estamos acostumados quando vamos a este restaurante. : 0.0\n",
            "Pode ter sido um fato isolado, mas. : 0.0\n"
          ],
          "name": "stdout"
        }
      ]
    },
    {
      "cell_type": "markdown",
      "metadata": {
        "id": "YpHkeYDSr-J-"
      },
      "source": [
        "#Cálculo da polaridade"
      ]
    },
    {
      "cell_type": "markdown",
      "metadata": {
        "id": "6P_dvtOssBBj"
      },
      "source": [
        "O valor da polaridade é um número real entre os valores [-1.0, 1.0]."
      ]
    },
    {
      "cell_type": "code",
      "metadata": {
        "id": "VtsOZWS0sL74",
        "colab": {
          "base_uri": "https://localhost:8080/",
          "height": 121
        },
        "outputId": "e4cb65d9-8c0c-4bf6-fe1a-b63d90e91f8d"
      },
      "source": [
        "for sentence_br, sentence in zip(comentario_blob.sentences, comentario_blob_us.sentences):\n",
        "    print(sentence_br, ':', sentence.sentiment.polarity)"
      ],
      "execution_count": null,
      "outputs": [
        {
          "output_type": "stream",
          "text": [
            "Conheço o restaurante em várias cidades do Brasil. : 0.0\n",
            "O de Manaus não foge muito da qualidade e beleza. : -0.05\n",
            "Atendimento bom, ambiente bonito. : 0.7749999999999999\n",
            "Mas a comida não surpreendeu, aliás até decepcionou. : -0.55\n",
            "Não foi aquele sabor que estamos acostumados quando vamos a este restaurante. : 0.0\n",
            "Pode ter sido um fato isolado, mas. : 0.0\n"
          ],
          "name": "stdout"
        }
      ]
    },
    {
      "cell_type": "markdown",
      "metadata": {
        "id": "GKq3KJrpE8rh"
      },
      "source": [
        "#**Visão Temporal**"
      ]
    },
    {
      "cell_type": "markdown",
      "metadata": {
        "id": "UIRGWo08Cpf6"
      },
      "source": [
        "#**Visão Geográfica**"
      ]
    },
    {
      "cell_type": "code",
      "metadata": {
        "id": "Rwg83jyqCwcx"
      },
      "source": [
        ""
      ],
      "execution_count": null,
      "outputs": []
    }
  ]
}